{
 "cells": [
  {
   "cell_type": "code",
   "execution_count": 1,
   "metadata": {},
   "outputs": [],
   "source": [
    "import pandas as pd\n",
    "import numpy as np\n",
    "from matplotlib import pyplot as plt\n",
    "from datetime import datetime\n",
    "from sklearn.metrics import mean_squared_error\n",
    "from sklearn.model_selection import train_test_split\n",
    "from sklearn.preprocessing import StandardScaler\n",
    "from sklearn.neighbors import KNeighborsRegressor\n",
    "from sklearn.preprocessing import MinMaxScaler\n",
    "from sklearn.svm import SVR\n",
    "from sklearn.model_selection import GridSearchCV\n",
    "from sklearn.model_selection import cross_val_score\n",
    "from sklearn.pipeline import Pipeline\n",
    "import xgboost as xgb\n",
    "from sklearn.ensemble import AdaBoostRegressor, GradientBoostingRegressor\n",
    "from sklearn.preprocessing import OneHotEncoder\n",
    "import pandas as pd\n",
    "import numpy as np\n",
    "import datetime\n",
    "from sklearn.linear_model import Lasso\n",
    "from sklearn.linear_model import Ridge\n",
    "from sklearn.linear_model import LinearRegression\n",
    "from sklearn.ensemble import RandomForestRegressor\n",
    "from sklearn.metrics import r2_score\n",
    "import warnings\n",
    "warnings.filterwarnings(\"ignore\")"
   ]
  },
  {
   "cell_type": "code",
   "execution_count": 2,
   "metadata": {},
   "outputs": [
    {
     "data": {
      "text/html": [
       "<div>\n",
       "<style scoped>\n",
       "    .dataframe tbody tr th:only-of-type {\n",
       "        vertical-align: middle;\n",
       "    }\n",
       "\n",
       "    .dataframe tbody tr th {\n",
       "        vertical-align: top;\n",
       "    }\n",
       "\n",
       "    .dataframe thead th {\n",
       "        text-align: right;\n",
       "    }\n",
       "</style>\n",
       "<table border=\"1\" class=\"dataframe\">\n",
       "  <thead>\n",
       "    <tr style=\"text-align: right;\">\n",
       "      <th></th>\n",
       "      <th>id</th>\n",
       "      <th>text</th>\n",
       "      <th>create_at</th>\n",
       "      <th>geo</th>\n",
       "      <th>retweet_count</th>\n",
       "      <th>like_count</th>\n",
       "      <th>hashtags</th>\n",
       "      <th>username</th>\n",
       "      <th>following</th>\n",
       "      <th>followers</th>\n",
       "      <th>user_total_tweets</th>\n",
       "      <th>user_likes_count</th>\n",
       "      <th>cleaned_text</th>\n",
       "    </tr>\n",
       "  </thead>\n",
       "  <tbody>\n",
       "    <tr>\n",
       "      <th>0</th>\n",
       "      <td>1.59122e+18</td>\n",
       "      <td>'Like a 1930s Dictator': Vitalik Buterin Lays ...</td>\n",
       "      <td>2022-11-11 23:59:59+00:00</td>\n",
       "      <td>For now, Earth</td>\n",
       "      <td>0</td>\n",
       "      <td>1</td>\n",
       "      <td>#ftx</td>\n",
       "      <td>johnmorganFL</td>\n",
       "      <td>630.0</td>\n",
       "      <td>28492</td>\n",
       "      <td>240872.0</td>\n",
       "      <td>111</td>\n",
       "      <td>like dictator vitalik buterin lay sam bankmanf...</td>\n",
       "    </tr>\n",
       "    <tr>\n",
       "      <th>1</th>\n",
       "      <td>1.59122e+18</td>\n",
       "      <td>💸 $1,000 #Giveaway 💸\\n\\nWe'll select 10 winner...</td>\n",
       "      <td>2022-11-11 23:59:57+00:00</td>\n",
       "      <td>Panama</td>\n",
       "      <td>8866</td>\n",
       "      <td>0</td>\n",
       "      <td>#ftx</td>\n",
       "      <td>KuKzNFT</td>\n",
       "      <td>594.0</td>\n",
       "      <td>1014</td>\n",
       "      <td>4452.0</td>\n",
       "      <td>8272</td>\n",
       "      <td>giveaway select winner randomly award account...</td>\n",
       "    </tr>\n",
       "    <tr>\n",
       "      <th>2</th>\n",
       "      <td>1.59122e+18</td>\n",
       "      <td>#FTX crazy Shit! #Crypto https://t.co/2GO4X3u2pt</td>\n",
       "      <td>2022-11-11 23:59:55+00:00</td>\n",
       "      <td>Seattle, WA</td>\n",
       "      <td>0</td>\n",
       "      <td>0</td>\n",
       "      <td>#ftx</td>\n",
       "      <td>MeAndMySports</td>\n",
       "      <td>315.0</td>\n",
       "      <td>342</td>\n",
       "      <td>3032.0</td>\n",
       "      <td>1572</td>\n",
       "      <td>ftx crazy shit crypto</td>\n",
       "    </tr>\n",
       "    <tr>\n",
       "      <th>3</th>\n",
       "      <td>1.59122e+18</td>\n",
       "      <td>Yo @SBF_FTX, draw me like one of your French g...</td>\n",
       "      <td>2022-11-11 23:59:53+00:00</td>\n",
       "      <td>London, England</td>\n",
       "      <td>0</td>\n",
       "      <td>0</td>\n",
       "      <td>#ftx</td>\n",
       "      <td>thedoc7er</td>\n",
       "      <td>1513.0</td>\n",
       "      <td>296</td>\n",
       "      <td>4541.0</td>\n",
       "      <td>3626</td>\n",
       "      <td>draw like french girl ftxcrash ftx binance czb...</td>\n",
       "    </tr>\n",
       "    <tr>\n",
       "      <th>4</th>\n",
       "      <td>1.59122e+18</td>\n",
       "      <td>@BitcoinMagazine you you simpletons cant under...</td>\n",
       "      <td>2022-11-11 23:59:51+00:00</td>\n",
       "      <td>NaN</td>\n",
       "      <td>0</td>\n",
       "      <td>1</td>\n",
       "      <td>#ftx</td>\n",
       "      <td>jesseypaul4</td>\n",
       "      <td>123.0</td>\n",
       "      <td>44</td>\n",
       "      <td>317.0</td>\n",
       "      <td>81</td>\n",
       "      <td>simpleton understand crypto wallet like exodus...</td>\n",
       "    </tr>\n",
       "    <tr>\n",
       "      <th>...</th>\n",
       "      <td>...</td>\n",
       "      <td>...</td>\n",
       "      <td>...</td>\n",
       "      <td>...</td>\n",
       "      <td>...</td>\n",
       "      <td>...</td>\n",
       "      <td>...</td>\n",
       "      <td>...</td>\n",
       "      <td>...</td>\n",
       "      <td>...</td>\n",
       "      <td>...</td>\n",
       "      <td>...</td>\n",
       "      <td>...</td>\n",
       "    </tr>\n",
       "    <tr>\n",
       "      <th>263494</th>\n",
       "      <td>1.59156e+18</td>\n",
       "      <td>🔴 WAR IN 🇺🇦: FRANCE 24 reporter @cntrentF24, w...</td>\n",
       "      <td>2022-11-12 22:52:11+00:00</td>\n",
       "      <td>Hauts de France 🇫🇷 🇪🇺</td>\n",
       "      <td>20</td>\n",
       "      <td>0</td>\n",
       "      <td>#ukraine</td>\n",
       "      <td>annetteashley61</td>\n",
       "      <td>10522.0</td>\n",
       "      <td>9603</td>\n",
       "      <td>437088.0</td>\n",
       "      <td>291392</td>\n",
       "      <td>war france reporter spend lot time report ukra...</td>\n",
       "    </tr>\n",
       "    <tr>\n",
       "      <th>263495</th>\n",
       "      <td>1.59156e+18</td>\n",
       "      <td>People still celebrating in Kherson and I love...</td>\n",
       "      <td>2022-11-12 22:52:09+00:00</td>\n",
       "      <td>Belgrade, Serbia, Europe</td>\n",
       "      <td>1041</td>\n",
       "      <td>0</td>\n",
       "      <td>#ukraine</td>\n",
       "      <td>svrhovac</td>\n",
       "      <td>222.0</td>\n",
       "      <td>150</td>\n",
       "      <td>9174.0</td>\n",
       "      <td>16675</td>\n",
       "      <td>people celebrate kherson love bit ukraine kherson</td>\n",
       "    </tr>\n",
       "    <tr>\n",
       "      <th>263496</th>\n",
       "      <td>1.59156e+18</td>\n",
       "      <td>A remarkable story #Ukraine https://t.co/eeBLc...</td>\n",
       "      <td>2022-11-12 22:52:04+00:00</td>\n",
       "      <td>Guernsey</td>\n",
       "      <td>0</td>\n",
       "      <td>0</td>\n",
       "      <td>#ukraine</td>\n",
       "      <td>TimBarker10</td>\n",
       "      <td>2668.0</td>\n",
       "      <td>1217</td>\n",
       "      <td>3290.0</td>\n",
       "      <td>5927</td>\n",
       "      <td>remarkable story ukraine</td>\n",
       "    </tr>\n",
       "    <tr>\n",
       "      <th>263497</th>\n",
       "      <td>1.59156e+18</td>\n",
       "      <td>#Ukraine: Relief in liberated #Kherson after 8...</td>\n",
       "      <td>2022-11-12 22:52:02+00:00</td>\n",
       "      <td>🇮🇪🇪🇺🇺🇦🎮</td>\n",
       "      <td>189</td>\n",
       "      <td>0</td>\n",
       "      <td>#ukraine</td>\n",
       "      <td>Aontaithe2021</td>\n",
       "      <td>5001.0</td>\n",
       "      <td>2376</td>\n",
       "      <td>392315.0</td>\n",
       "      <td>308109</td>\n",
       "      <td>ukraine relief liberated kherson month putin ...</td>\n",
       "    </tr>\n",
       "    <tr>\n",
       "      <th>263498</th>\n",
       "      <td>1.59156e+18</td>\n",
       "      <td>Drone Drops Grenade Directly on Russian Soldie...</td>\n",
       "      <td>2022-11-12 22:51:59+00:00</td>\n",
       "      <td>NaN</td>\n",
       "      <td>0</td>\n",
       "      <td>0</td>\n",
       "      <td>#ukraine</td>\n",
       "      <td>vbl68</td>\n",
       "      <td>28.0</td>\n",
       "      <td>16</td>\n",
       "      <td>2760.0</td>\n",
       "      <td>21</td>\n",
       "      <td>drone drop grenade directly russian soldier op...</td>\n",
       "    </tr>\n",
       "  </tbody>\n",
       "</table>\n",
       "<p>263499 rows × 13 columns</p>\n",
       "</div>"
      ],
      "text/plain": [
       "                 id                                               text  \\\n",
       "0       1.59122e+18  'Like a 1930s Dictator': Vitalik Buterin Lays ...   \n",
       "1       1.59122e+18  💸 $1,000 #Giveaway 💸\\n\\nWe'll select 10 winner...   \n",
       "2       1.59122e+18   #FTX crazy Shit! #Crypto https://t.co/2GO4X3u2pt   \n",
       "3       1.59122e+18  Yo @SBF_FTX, draw me like one of your French g...   \n",
       "4       1.59122e+18  @BitcoinMagazine you you simpletons cant under...   \n",
       "...             ...                                                ...   \n",
       "263494  1.59156e+18  🔴 WAR IN 🇺🇦: FRANCE 24 reporter @cntrentF24, w...   \n",
       "263495  1.59156e+18  People still celebrating in Kherson and I love...   \n",
       "263496  1.59156e+18  A remarkable story #Ukraine https://t.co/eeBLc...   \n",
       "263497  1.59156e+18  #Ukraine: Relief in liberated #Kherson after 8...   \n",
       "263498  1.59156e+18  Drone Drops Grenade Directly on Russian Soldie...   \n",
       "\n",
       "                        create_at                       geo retweet_count  \\\n",
       "0       2022-11-11 23:59:59+00:00            For now, Earth             0   \n",
       "1       2022-11-11 23:59:57+00:00                    Panama          8866   \n",
       "2       2022-11-11 23:59:55+00:00               Seattle, WA             0   \n",
       "3       2022-11-11 23:59:53+00:00           London, England             0   \n",
       "4       2022-11-11 23:59:51+00:00                       NaN             0   \n",
       "...                           ...                       ...           ...   \n",
       "263494  2022-11-12 22:52:11+00:00     Hauts de France 🇫🇷 🇪🇺            20   \n",
       "263495  2022-11-12 22:52:09+00:00  Belgrade, Serbia, Europe          1041   \n",
       "263496  2022-11-12 22:52:04+00:00                  Guernsey             0   \n",
       "263497  2022-11-12 22:52:02+00:00                   🇮🇪🇪🇺🇺🇦🎮           189   \n",
       "263498  2022-11-12 22:51:59+00:00                       NaN             0   \n",
       "\n",
       "       like_count  hashtags         username  following followers  \\\n",
       "0               1      #ftx     johnmorganFL      630.0     28492   \n",
       "1               0      #ftx          KuKzNFT      594.0      1014   \n",
       "2               0      #ftx    MeAndMySports      315.0       342   \n",
       "3               0      #ftx        thedoc7er     1513.0       296   \n",
       "4               1      #ftx      jesseypaul4      123.0        44   \n",
       "...           ...       ...              ...        ...       ...   \n",
       "263494          0  #ukraine  annetteashley61    10522.0      9603   \n",
       "263495          0  #ukraine         svrhovac      222.0       150   \n",
       "263496          0  #ukraine      TimBarker10     2668.0      1217   \n",
       "263497          0  #ukraine    Aontaithe2021     5001.0      2376   \n",
       "263498          0  #ukraine            vbl68       28.0        16   \n",
       "\n",
       "        user_total_tweets user_likes_count  \\\n",
       "0                240872.0              111   \n",
       "1                  4452.0             8272   \n",
       "2                  3032.0             1572   \n",
       "3                  4541.0             3626   \n",
       "4                   317.0               81   \n",
       "...                   ...              ...   \n",
       "263494           437088.0           291392   \n",
       "263495             9174.0            16675   \n",
       "263496             3290.0             5927   \n",
       "263497           392315.0           308109   \n",
       "263498             2760.0               21   \n",
       "\n",
       "                                             cleaned_text  \n",
       "0       like dictator vitalik buterin lay sam bankmanf...  \n",
       "1        giveaway select winner randomly award account...  \n",
       "2                                   ftx crazy shit crypto  \n",
       "3       draw like french girl ftxcrash ftx binance czb...  \n",
       "4       simpleton understand crypto wallet like exodus...  \n",
       "...                                                   ...  \n",
       "263494  war france reporter spend lot time report ukra...  \n",
       "263495  people celebrate kherson love bit ukraine kherson  \n",
       "263496                           remarkable story ukraine  \n",
       "263497   ukraine relief liberated kherson month putin ...  \n",
       "263498  drone drop grenade directly russian soldier op...  \n",
       "\n",
       "[263499 rows x 13 columns]"
      ]
     },
     "execution_count": 2,
     "metadata": {},
     "output_type": "execute_result"
    }
   ],
   "source": [
    "data = pd.read_csv('data/cleaned.csv.gz')\n",
    "data"
   ]
  },
  {
   "cell_type": "code",
   "execution_count": 3,
   "metadata": {},
   "outputs": [
    {
     "data": {
      "text/plain": [
       "Index(['id', 'text', 'create_at', 'geo', 'retweet_count', 'like_count',\n",
       "       'hashtags', 'username', 'following', 'followers', 'user_total_tweets',\n",
       "       'user_likes_count', 'cleaned_text'],\n",
       "      dtype='object')"
      ]
     },
     "execution_count": 3,
     "metadata": {},
     "output_type": "execute_result"
    }
   ],
   "source": [
    "data.columns"
   ]
  },
  {
   "cell_type": "code",
   "execution_count": 4,
   "metadata": {},
   "outputs": [
    {
     "data": {
      "text/plain": [
       "#ukraine          27000\n",
       "#covid            27000\n",
       "#christmas        26690\n",
       "#vegan            26651\n",
       "#climatechange    26089\n",
       "#ftx              24076\n",
       "22.0                  1\n",
       "ShopParaTi            1\n",
       "Name: hashtags, dtype: int64"
      ]
     },
     "execution_count": 4,
     "metadata": {},
     "output_type": "execute_result"
    }
   ],
   "source": [
    "data['hashtags'].value_counts()"
   ]
  },
  {
   "cell_type": "markdown",
   "metadata": {},
   "source": [
    "remove tags"
   ]
  },
  {
   "cell_type": "code",
   "execution_count": 5,
   "metadata": {},
   "outputs": [
    {
     "data": {
      "text/plain": [
       "#ukraine          27000\n",
       "#covid            27000\n",
       "#christmas        26690\n",
       "#vegan            26651\n",
       "#climatechange    26089\n",
       "#ftx              24076\n",
       "Name: hashtags, dtype: int64"
      ]
     },
     "execution_count": 5,
     "metadata": {},
     "output_type": "execute_result"
    }
   ],
   "source": [
    "data = data[(data['hashtags']!='ShopParaTi') & (data['hashtags']!='22.0')]\n",
    "data['hashtags'].value_counts()"
   ]
  },
  {
   "cell_type": "markdown",
   "metadata": {},
   "source": [
    "one-hot encoding hashtags"
   ]
  },
  {
   "cell_type": "code",
   "execution_count": 6,
   "metadata": {},
   "outputs": [
    {
     "data": {
      "text/plain": [
       "Index(['id', 'text', 'create_at', 'geo', 'retweet_count', 'like_count',\n",
       "       'username', 'following', 'followers', 'user_total_tweets',\n",
       "       'user_likes_count', 'cleaned_text', 'hashtags_#christmas',\n",
       "       'hashtags_#climatechange', 'hashtags_#covid', 'hashtags_#ftx',\n",
       "       'hashtags_#ukraine', 'hashtags_#vegan'],\n",
       "      dtype='object')"
      ]
     },
     "execution_count": 6,
     "metadata": {},
     "output_type": "execute_result"
    }
   ],
   "source": [
    "data = pd.get_dummies(data=data, columns=['hashtags'])\n",
    "data.columns"
   ]
  },
  {
   "cell_type": "markdown",
   "metadata": {},
   "source": [
    "get useful columns"
   ]
  },
  {
   "cell_type": "code",
   "execution_count": 7,
   "metadata": {},
   "outputs": [],
   "source": [
    "useful_columns = [\n",
    "    'following',\n",
    "    'followers', \n",
    "    'user_total_tweets',\n",
    "    'user_likes_count',\n",
    "    'hashtags_#christmas', \n",
    "    'hashtags_#climatechange',\n",
    "    'hashtags_#covid', \n",
    "    'hashtags_#ftx', \n",
    "    'hashtags_#ukraine',\n",
    "    'hashtags_#vegan',\n",
    "    'retweet_count', \n",
    "    'like_count'\n",
    "]\n",
    "\n",
    "all_features = [\n",
    "    'following',\n",
    "    'followers', \n",
    "    'user_total_tweets',\n",
    "    'user_likes_count', \n",
    "    'hashtags_#christmas', \n",
    "    'hashtags_#climatechange',\n",
    "    'hashtags_#covid', \n",
    "    'hashtags_#ftx', \n",
    "    'hashtags_#ukraine',\n",
    "    'hashtags_#vegan'\n",
    "]\n",
    "data_baseline = data[useful_columns]"
   ]
  },
  {
   "cell_type": "markdown",
   "metadata": {},
   "source": [
    "remove NaN and transform data type"
   ]
  },
  {
   "cell_type": "code",
   "execution_count": 8,
   "metadata": {},
   "outputs": [
    {
     "name": "stdout",
     "output_type": "stream",
     "text": [
      "<class 'pandas.core.frame.DataFrame'>\n",
      "Int64Index: 263497 entries, 0 to 263498\n",
      "Data columns (total 12 columns):\n",
      " #   Column                   Non-Null Count   Dtype  \n",
      "---  ------                   --------------   -----  \n",
      " 0   following                157506 non-null  float64\n",
      " 1   followers                157506 non-null  object \n",
      " 2   user_total_tweets        157506 non-null  float64\n",
      " 3   user_likes_count         157506 non-null  object \n",
      " 4   hashtags_#christmas      263497 non-null  uint8  \n",
      " 5   hashtags_#climatechange  263497 non-null  uint8  \n",
      " 6   hashtags_#covid          263497 non-null  uint8  \n",
      " 7   hashtags_#ftx            263497 non-null  uint8  \n",
      " 8   hashtags_#ukraine        263497 non-null  uint8  \n",
      " 9   hashtags_#vegan          263497 non-null  uint8  \n",
      " 10  retweet_count            157506 non-null  object \n",
      " 11  like_count               157506 non-null  object \n",
      "dtypes: float64(2), object(4), uint8(6)\n",
      "memory usage: 15.6+ MB\n"
     ]
    }
   ],
   "source": [
    "data_baseline.info()"
   ]
  },
  {
   "cell_type": "code",
   "execution_count": 9,
   "metadata": {},
   "outputs": [],
   "source": [
    "data_baseline.dropna(inplace=True)\n",
    "data_baseline[['retweet_count','like_count','following','followers','user_total_tweets','user_likes_count']] = data_baseline[['retweet_count','like_count','following','followers','user_total_tweets','user_likes_count']].astype('float')"
   ]
  },
  {
   "cell_type": "code",
   "execution_count": 10,
   "metadata": {},
   "outputs": [
    {
     "name": "stdout",
     "output_type": "stream",
     "text": [
      "<class 'pandas.core.frame.DataFrame'>\n",
      "Int64Index: 157506 entries, 0 to 263498\n",
      "Data columns (total 12 columns):\n",
      " #   Column                   Non-Null Count   Dtype  \n",
      "---  ------                   --------------   -----  \n",
      " 0   following                157506 non-null  float64\n",
      " 1   followers                157506 non-null  float64\n",
      " 2   user_total_tweets        157506 non-null  float64\n",
      " 3   user_likes_count         157506 non-null  float64\n",
      " 4   hashtags_#christmas      157506 non-null  uint8  \n",
      " 5   hashtags_#climatechange  157506 non-null  uint8  \n",
      " 6   hashtags_#covid          157506 non-null  uint8  \n",
      " 7   hashtags_#ftx            157506 non-null  uint8  \n",
      " 8   hashtags_#ukraine        157506 non-null  uint8  \n",
      " 9   hashtags_#vegan          157506 non-null  uint8  \n",
      " 10  retweet_count            157506 non-null  float64\n",
      " 11  like_count               157506 non-null  float64\n",
      "dtypes: float64(6), uint8(6)\n",
      "memory usage: 9.3 MB\n"
     ]
    }
   ],
   "source": [
    "data_baseline.info()"
   ]
  },
  {
   "cell_type": "markdown",
   "metadata": {},
   "source": [
    "put data into bins"
   ]
  },
  {
   "cell_type": "markdown",
   "metadata": {},
   "source": [
    "baseline (dummy)"
   ]
  },
  {
   "cell_type": "code",
   "execution_count": 11,
   "metadata": {},
   "outputs": [
    {
     "data": {
      "text/html": [
       "<div>\n",
       "<style scoped>\n",
       "    .dataframe tbody tr th:only-of-type {\n",
       "        vertical-align: middle;\n",
       "    }\n",
       "\n",
       "    .dataframe tbody tr th {\n",
       "        vertical-align: top;\n",
       "    }\n",
       "\n",
       "    .dataframe thead th {\n",
       "        text-align: right;\n",
       "    }\n",
       "</style>\n",
       "<table border=\"1\" class=\"dataframe\">\n",
       "  <thead>\n",
       "    <tr style=\"text-align: right;\">\n",
       "      <th></th>\n",
       "      <th>following</th>\n",
       "      <th>followers</th>\n",
       "      <th>user_total_tweets</th>\n",
       "      <th>user_likes_count</th>\n",
       "      <th>hashtags_#christmas</th>\n",
       "      <th>hashtags_#climatechange</th>\n",
       "      <th>hashtags_#covid</th>\n",
       "      <th>hashtags_#ftx</th>\n",
       "      <th>hashtags_#ukraine</th>\n",
       "      <th>hashtags_#vegan</th>\n",
       "    </tr>\n",
       "  </thead>\n",
       "  <tbody>\n",
       "    <tr>\n",
       "      <th>0</th>\n",
       "      <td>630.0</td>\n",
       "      <td>28492.0</td>\n",
       "      <td>240872.0</td>\n",
       "      <td>111.0</td>\n",
       "      <td>0</td>\n",
       "      <td>0</td>\n",
       "      <td>0</td>\n",
       "      <td>1</td>\n",
       "      <td>0</td>\n",
       "      <td>0</td>\n",
       "    </tr>\n",
       "  </tbody>\n",
       "</table>\n",
       "</div>"
      ],
      "text/plain": [
       "   following  followers  user_total_tweets  user_likes_count  \\\n",
       "0      630.0    28492.0           240872.0             111.0   \n",
       "\n",
       "   hashtags_#christmas  hashtags_#climatechange  hashtags_#covid  \\\n",
       "0                    0                        0                0   \n",
       "\n",
       "   hashtags_#ftx  hashtags_#ukraine  hashtags_#vegan  \n",
       "0              1                  0                0  "
      ]
     },
     "execution_count": 11,
     "metadata": {},
     "output_type": "execute_result"
    }
   ],
   "source": [
    "features = data_baseline[all_features]\n",
    "features.head(1)"
   ]
  },
  {
   "cell_type": "code",
   "execution_count": 12,
   "metadata": {
    "tags": []
   },
   "outputs": [
    {
     "data": {
      "text/plain": [
       "0         1.0\n",
       "1         0.0\n",
       "2         0.0\n",
       "3         0.0\n",
       "4         1.0\n",
       "         ... \n",
       "263494    0.0\n",
       "263495    0.0\n",
       "263496    0.0\n",
       "263497    0.0\n",
       "263498    0.0\n",
       "Name: like_count, Length: 157506, dtype: float64"
      ]
     },
     "execution_count": 12,
     "metadata": {},
     "output_type": "execute_result"
    }
   ],
   "source": [
    "labels = data_baseline['like_count']\n",
    "labels"
   ]
  },
  {
   "cell_type": "code",
   "execution_count": 13,
   "metadata": {},
   "outputs": [],
   "source": [
    "X_train, X_test, y_train, y_test = train_test_split(features, labels, test_size=0.2, random_state=42)"
   ]
  },
  {
   "cell_type": "code",
   "execution_count": 14,
   "metadata": {},
   "outputs": [
    {
     "data": {
      "text/plain": [
       "(31502, 31502)"
      ]
     },
     "execution_count": 14,
     "metadata": {},
     "output_type": "execute_result"
    }
   ],
   "source": [
    "len(X_test), len(y_test)"
   ]
  },
  {
   "cell_type": "code",
   "execution_count": 15,
   "metadata": {},
   "outputs": [],
   "source": [
    "from sklearn.preprocessing import MinMaxScaler\n",
    "\n",
    "scaler = MinMaxScaler()\n",
    "X_train_scaled = scaler.fit_transform(X_train)\n",
    "X_test_scaled = scaler.transform(X_test)"
   ]
  },
  {
   "cell_type": "code",
   "execution_count": 16,
   "metadata": {},
   "outputs": [
    {
     "data": {
      "text/plain": [
       "1.29586170440988"
      ]
     },
     "execution_count": 16,
     "metadata": {},
     "output_type": "execute_result"
    }
   ],
   "source": [
    "from sklearn.dummy import DummyRegressor\n",
    "from sklearn.metrics import mean_squared_log_error\n",
    "\n",
    "dummy1 = DummyRegressor()\n",
    "dummy1.fit(X_train_scaled, y_train)\n",
    "mean_squared_log_error(y_test, dummy1.predict(X_test_scaled))"
   ]
  },
  {
   "cell_type": "code",
   "execution_count": 17,
   "metadata": {},
   "outputs": [
    {
     "data": {
      "text/plain": [
       "0.4255747839075408"
      ]
     },
     "execution_count": 17,
     "metadata": {},
     "output_type": "execute_result"
    }
   ],
   "source": [
    "dummy2 = DummyRegressor(strategy='constant', constant=0)\n",
    "dummy2.fit(X_train_scaled, y_train)\n",
    "mean_squared_log_error(y_test, dummy2.predict(X_test_scaled))"
   ]
  },
  {
   "cell_type": "markdown",
   "metadata": {},
   "source": [
    "baseline 2 (selected features)"
   ]
  },
  {
   "cell_type": "code",
   "execution_count": 18,
   "metadata": {},
   "outputs": [
    {
     "data": {
      "text/plain": [
       "0.548265166813657"
      ]
     },
     "execution_count": 18,
     "metadata": {},
     "output_type": "execute_result"
    }
   ],
   "source": [
    "rf = RandomForestRegressor(random_state=0)\n",
    "rf.fit(X_train_scaled,y_train)\n",
    "mean_squared_log_error(y_test, rf.predict(X_test_scaled))"
   ]
  },
  {
   "cell_type": "code",
   "execution_count": 19,
   "metadata": {},
   "outputs": [
    {
     "data": {
      "text/plain": [
       "2.87016378588174"
      ]
     },
     "execution_count": 19,
     "metadata": {},
     "output_type": "execute_result"
    }
   ],
   "source": [
    "ada_reg = AdaBoostRegressor(random_state=0, n_estimators = 50)\n",
    "ada_reg.fit(X_train_scaled,y_train)\n",
    "mean_squared_log_error(y_test, ada_reg.predict(X_test_scaled))"
   ]
  },
  {
   "cell_type": "code",
   "execution_count": 20,
   "metadata": {},
   "outputs": [
    {
     "data": {
      "text/plain": [
       "0.4988386350101342"
      ]
     },
     "execution_count": 20,
     "metadata": {},
     "output_type": "execute_result"
    }
   ],
   "source": [
    "knn = KNeighborsRegressor(n_neighbors=5)\n",
    "knn.fit(X_train_scaled, y_train)\n",
    "mean_squared_log_error(y_test, knn.predict(X_test_scaled))"
   ]
  },
  {
   "cell_type": "code",
   "execution_count": null,
   "metadata": {},
   "outputs": [],
   "source": []
  }
 ],
 "metadata": {
  "kernelspec": {
   "display_name": "Python 3",
   "language": "python",
   "name": "python3"
  },
  "language_info": {
   "codemirror_mode": {
    "name": "ipython",
    "version": 3
   },
   "file_extension": ".py",
   "mimetype": "text/x-python",
   "name": "python",
   "nbconvert_exporter": "python",
   "pygments_lexer": "ipython3",
   "version": "3.8.5"
  }
 },
 "nbformat": 4,
 "nbformat_minor": 5
}
