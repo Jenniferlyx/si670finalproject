{
 "cells": [
  {
   "cell_type": "code",
   "execution_count": 1,
   "metadata": {},
   "outputs": [],
   "source": [
    "import pandas as pd\n",
    "import numpy as np\n",
    "from matplotlib import pyplot as plt\n",
    "from datetime import datetime\n",
    "from sklearn.metrics import mean_squared_error\n",
    "from sklearn.model_selection import train_test_split\n",
    "from sklearn.preprocessing import StandardScaler\n",
    "from sklearn.neighbors import KNeighborsRegressor\n",
    "from sklearn.preprocessing import MinMaxScaler\n",
    "from sklearn.svm import SVR\n",
    "from sklearn.model_selection import GridSearchCV\n",
    "from sklearn.model_selection import cross_val_score\n",
    "from sklearn.pipeline import Pipeline\n",
    "import xgboost as xgb\n",
    "from sklearn.ensemble import AdaBoostRegressor, GradientBoostingRegressor\n",
    "from sklearn.preprocessing import OneHotEncoder\n",
    "import pandas as pd\n",
    "import numpy as np\n",
    "import datetime\n",
    "from sklearn.linear_model import Lasso\n",
    "from sklearn.linear_model import Ridge\n",
    "from sklearn.linear_model import LinearRegression\n",
    "from sklearn.ensemble import RandomForestRegressor\n",
    "from sklearn.metrics import r2_score\n",
    "import warnings\n",
    "warnings.filterwarnings(\"ignore\")"
   ]
  },
  {
   "cell_type": "code",
   "execution_count": 3,
   "id": "cfccf6f3",
   "metadata": {},
   "outputs": [
    {
     "data": {
      "text/html": [
       "<div>\n",
       "<style scoped>\n",
       "    .dataframe tbody tr th:only-of-type {\n",
       "        vertical-align: middle;\n",
       "    }\n",
       "\n",
       "    .dataframe tbody tr th {\n",
       "        vertical-align: top;\n",
       "    }\n",
       "\n",
       "    .dataframe thead th {\n",
       "        text-align: right;\n",
       "    }\n",
       "</style>\n",
       "<table border=\"1\" class=\"dataframe\">\n",
       "  <thead>\n",
       "    <tr style=\"text-align: right;\">\n",
       "      <th></th>\n",
       "      <th>Unnamed: 0</th>\n",
       "      <th>id</th>\n",
       "      <th>text</th>\n",
       "      <th>create_at</th>\n",
       "      <th>geo</th>\n",
       "      <th>retweet_count</th>\n",
       "      <th>like_count</th>\n",
       "      <th>hashtags</th>\n",
       "      <th>username</th>\n",
       "      <th>following</th>\n",
       "      <th>...</th>\n",
       "      <th>0</th>\n",
       "      <th>1</th>\n",
       "      <th>2</th>\n",
       "      <th>3</th>\n",
       "      <th>4</th>\n",
       "      <th>5</th>\n",
       "      <th>6</th>\n",
       "      <th>7</th>\n",
       "      <th>8</th>\n",
       "      <th>9</th>\n",
       "    </tr>\n",
       "  </thead>\n",
       "  <tbody>\n",
       "    <tr>\n",
       "      <th>0</th>\n",
       "      <td>0</td>\n",
       "      <td>1.59122e+18</td>\n",
       "      <td>'Like a 1930s Dictator': Vitalik Buterin Lays ...</td>\n",
       "      <td>2022-11-11 23:59:59+00:00</td>\n",
       "      <td>For now, Earth</td>\n",
       "      <td>0</td>\n",
       "      <td>1</td>\n",
       "      <td>#ftx</td>\n",
       "      <td>johnmorganFL</td>\n",
       "      <td>630.0</td>\n",
       "      <td>...</td>\n",
       "      <td>NaN</td>\n",
       "      <td>NaN</td>\n",
       "      <td>NaN</td>\n",
       "      <td>NaN</td>\n",
       "      <td>NaN</td>\n",
       "      <td>NaN</td>\n",
       "      <td>NaN</td>\n",
       "      <td>NaN</td>\n",
       "      <td>NaN</td>\n",
       "      <td>NaN</td>\n",
       "    </tr>\n",
       "    <tr>\n",
       "      <th>1</th>\n",
       "      <td>1</td>\n",
       "      <td>1.59122e+18</td>\n",
       "      <td>💸 $1,000 #Giveaway 💸\\n\\nWe'll select 10 winner...</td>\n",
       "      <td>2022-11-11 23:59:57+00:00</td>\n",
       "      <td>Panama</td>\n",
       "      <td>8866</td>\n",
       "      <td>0</td>\n",
       "      <td>#ftx</td>\n",
       "      <td>KuKzNFT</td>\n",
       "      <td>594.0</td>\n",
       "      <td>...</td>\n",
       "      <td>NaN</td>\n",
       "      <td>NaN</td>\n",
       "      <td>NaN</td>\n",
       "      <td>NaN</td>\n",
       "      <td>NaN</td>\n",
       "      <td>NaN</td>\n",
       "      <td>NaN</td>\n",
       "      <td>NaN</td>\n",
       "      <td>NaN</td>\n",
       "      <td>NaN</td>\n",
       "    </tr>\n",
       "    <tr>\n",
       "      <th>2</th>\n",
       "      <td>2</td>\n",
       "      <td>1.59122e+18</td>\n",
       "      <td>#FTX crazy Shit! #Crypto https://t.co/2GO4X3u2pt</td>\n",
       "      <td>2022-11-11 23:59:55+00:00</td>\n",
       "      <td>Seattle, WA</td>\n",
       "      <td>0</td>\n",
       "      <td>0</td>\n",
       "      <td>#ftx</td>\n",
       "      <td>MeAndMySports</td>\n",
       "      <td>315.0</td>\n",
       "      <td>...</td>\n",
       "      <td>NaN</td>\n",
       "      <td>NaN</td>\n",
       "      <td>NaN</td>\n",
       "      <td>NaN</td>\n",
       "      <td>NaN</td>\n",
       "      <td>NaN</td>\n",
       "      <td>NaN</td>\n",
       "      <td>NaN</td>\n",
       "      <td>NaN</td>\n",
       "      <td>NaN</td>\n",
       "    </tr>\n",
       "    <tr>\n",
       "      <th>3</th>\n",
       "      <td>3</td>\n",
       "      <td>1.59122e+18</td>\n",
       "      <td>Yo @SBF_FTX, draw me like one of your French g...</td>\n",
       "      <td>2022-11-11 23:59:53+00:00</td>\n",
       "      <td>London, England</td>\n",
       "      <td>0</td>\n",
       "      <td>0</td>\n",
       "      <td>#ftx</td>\n",
       "      <td>thedoc7er</td>\n",
       "      <td>1513.0</td>\n",
       "      <td>...</td>\n",
       "      <td>NaN</td>\n",
       "      <td>NaN</td>\n",
       "      <td>NaN</td>\n",
       "      <td>NaN</td>\n",
       "      <td>NaN</td>\n",
       "      <td>NaN</td>\n",
       "      <td>NaN</td>\n",
       "      <td>NaN</td>\n",
       "      <td>NaN</td>\n",
       "      <td>NaN</td>\n",
       "    </tr>\n",
       "    <tr>\n",
       "      <th>4</th>\n",
       "      <td>4</td>\n",
       "      <td>1.59122e+18</td>\n",
       "      <td>@BitcoinMagazine you you simpletons cant under...</td>\n",
       "      <td>2022-11-11 23:59:51+00:00</td>\n",
       "      <td>NaN</td>\n",
       "      <td>0</td>\n",
       "      <td>1</td>\n",
       "      <td>#ftx</td>\n",
       "      <td>jesseypaul4</td>\n",
       "      <td>123.0</td>\n",
       "      <td>...</td>\n",
       "      <td>NaN</td>\n",
       "      <td>NaN</td>\n",
       "      <td>NaN</td>\n",
       "      <td>NaN</td>\n",
       "      <td>NaN</td>\n",
       "      <td>NaN</td>\n",
       "      <td>NaN</td>\n",
       "      <td>NaN</td>\n",
       "      <td>NaN</td>\n",
       "      <td>NaN</td>\n",
       "    </tr>\n",
       "    <tr>\n",
       "      <th>...</th>\n",
       "      <td>...</td>\n",
       "      <td>...</td>\n",
       "      <td>...</td>\n",
       "      <td>...</td>\n",
       "      <td>...</td>\n",
       "      <td>...</td>\n",
       "      <td>...</td>\n",
       "      <td>...</td>\n",
       "      <td>...</td>\n",
       "      <td>...</td>\n",
       "      <td>...</td>\n",
       "      <td>...</td>\n",
       "      <td>...</td>\n",
       "      <td>...</td>\n",
       "      <td>...</td>\n",
       "      <td>...</td>\n",
       "      <td>...</td>\n",
       "      <td>...</td>\n",
       "      <td>...</td>\n",
       "      <td>...</td>\n",
       "      <td>...</td>\n",
       "    </tr>\n",
       "    <tr>\n",
       "      <th>396011</th>\n",
       "      <td>396011</td>\n",
       "      <td>1.59156e+18</td>\n",
       "      <td>🔴 WAR IN 🇺🇦: FRANCE 24 reporter @cntrentF24, w...</td>\n",
       "      <td>2022-11-12 22:52:11+00:00</td>\n",
       "      <td>Hauts de France 🇫🇷 🇪🇺</td>\n",
       "      <td>20</td>\n",
       "      <td>0</td>\n",
       "      <td>#ukraine</td>\n",
       "      <td>annetteashley61</td>\n",
       "      <td>10522.0</td>\n",
       "      <td>...</td>\n",
       "      <td>NaN</td>\n",
       "      <td>NaN</td>\n",
       "      <td>NaN</td>\n",
       "      <td>NaN</td>\n",
       "      <td>NaN</td>\n",
       "      <td>NaN</td>\n",
       "      <td>NaN</td>\n",
       "      <td>NaN</td>\n",
       "      <td>NaN</td>\n",
       "      <td>NaN</td>\n",
       "    </tr>\n",
       "    <tr>\n",
       "      <th>396012</th>\n",
       "      <td>396012</td>\n",
       "      <td>1.59156e+18</td>\n",
       "      <td>People still celebrating in Kherson and I love...</td>\n",
       "      <td>2022-11-12 22:52:09+00:00</td>\n",
       "      <td>Belgrade, Serbia, Europe</td>\n",
       "      <td>1041</td>\n",
       "      <td>0</td>\n",
       "      <td>#ukraine</td>\n",
       "      <td>svrhovac</td>\n",
       "      <td>222.0</td>\n",
       "      <td>...</td>\n",
       "      <td>NaN</td>\n",
       "      <td>NaN</td>\n",
       "      <td>NaN</td>\n",
       "      <td>NaN</td>\n",
       "      <td>NaN</td>\n",
       "      <td>NaN</td>\n",
       "      <td>NaN</td>\n",
       "      <td>NaN</td>\n",
       "      <td>NaN</td>\n",
       "      <td>NaN</td>\n",
       "    </tr>\n",
       "    <tr>\n",
       "      <th>396013</th>\n",
       "      <td>396013</td>\n",
       "      <td>1.59156e+18</td>\n",
       "      <td>A remarkable story #Ukraine https://t.co/eeBLc...</td>\n",
       "      <td>2022-11-12 22:52:04+00:00</td>\n",
       "      <td>Guernsey</td>\n",
       "      <td>0</td>\n",
       "      <td>0</td>\n",
       "      <td>#ukraine</td>\n",
       "      <td>TimBarker10</td>\n",
       "      <td>2668.0</td>\n",
       "      <td>...</td>\n",
       "      <td>NaN</td>\n",
       "      <td>NaN</td>\n",
       "      <td>NaN</td>\n",
       "      <td>NaN</td>\n",
       "      <td>NaN</td>\n",
       "      <td>NaN</td>\n",
       "      <td>NaN</td>\n",
       "      <td>NaN</td>\n",
       "      <td>NaN</td>\n",
       "      <td>NaN</td>\n",
       "    </tr>\n",
       "    <tr>\n",
       "      <th>396014</th>\n",
       "      <td>396014</td>\n",
       "      <td>1.59156e+18</td>\n",
       "      <td>#Ukraine: Relief in liberated #Kherson after 8...</td>\n",
       "      <td>2022-11-12 22:52:02+00:00</td>\n",
       "      <td>🇮🇪🇪🇺🇺🇦🎮</td>\n",
       "      <td>189</td>\n",
       "      <td>0</td>\n",
       "      <td>#ukraine</td>\n",
       "      <td>Aontaithe2021</td>\n",
       "      <td>5001.0</td>\n",
       "      <td>...</td>\n",
       "      <td>NaN</td>\n",
       "      <td>NaN</td>\n",
       "      <td>NaN</td>\n",
       "      <td>NaN</td>\n",
       "      <td>NaN</td>\n",
       "      <td>NaN</td>\n",
       "      <td>NaN</td>\n",
       "      <td>NaN</td>\n",
       "      <td>NaN</td>\n",
       "      <td>NaN</td>\n",
       "    </tr>\n",
       "    <tr>\n",
       "      <th>396015</th>\n",
       "      <td>396015</td>\n",
       "      <td>1.59156e+18</td>\n",
       "      <td>Drone Drops Grenade Directly on Russian Soldie...</td>\n",
       "      <td>2022-11-12 22:51:59+00:00</td>\n",
       "      <td>NaN</td>\n",
       "      <td>0</td>\n",
       "      <td>0</td>\n",
       "      <td>#ukraine</td>\n",
       "      <td>vbl68</td>\n",
       "      <td>28.0</td>\n",
       "      <td>...</td>\n",
       "      <td>NaN</td>\n",
       "      <td>NaN</td>\n",
       "      <td>NaN</td>\n",
       "      <td>NaN</td>\n",
       "      <td>NaN</td>\n",
       "      <td>NaN</td>\n",
       "      <td>NaN</td>\n",
       "      <td>NaN</td>\n",
       "      <td>NaN</td>\n",
       "      <td>NaN</td>\n",
       "    </tr>\n",
       "  </tbody>\n",
       "</table>\n",
       "<p>396016 rows × 24 columns</p>\n",
       "</div>"
      ],
      "text/plain": [
       "        Unnamed: 0           id  \\\n",
       "0                0  1.59122e+18   \n",
       "1                1  1.59122e+18   \n",
       "2                2  1.59122e+18   \n",
       "3                3  1.59122e+18   \n",
       "4                4  1.59122e+18   \n",
       "...            ...          ...   \n",
       "396011      396011  1.59156e+18   \n",
       "396012      396012  1.59156e+18   \n",
       "396013      396013  1.59156e+18   \n",
       "396014      396014  1.59156e+18   \n",
       "396015      396015  1.59156e+18   \n",
       "\n",
       "                                                     text  \\\n",
       "0       'Like a 1930s Dictator': Vitalik Buterin Lays ...   \n",
       "1       💸 $1,000 #Giveaway 💸\\n\\nWe'll select 10 winner...   \n",
       "2        #FTX crazy Shit! #Crypto https://t.co/2GO4X3u2pt   \n",
       "3       Yo @SBF_FTX, draw me like one of your French g...   \n",
       "4       @BitcoinMagazine you you simpletons cant under...   \n",
       "...                                                   ...   \n",
       "396011  🔴 WAR IN 🇺🇦: FRANCE 24 reporter @cntrentF24, w...   \n",
       "396012  People still celebrating in Kherson and I love...   \n",
       "396013  A remarkable story #Ukraine https://t.co/eeBLc...   \n",
       "396014  #Ukraine: Relief in liberated #Kherson after 8...   \n",
       "396015  Drone Drops Grenade Directly on Russian Soldie...   \n",
       "\n",
       "                        create_at                       geo retweet_count  \\\n",
       "0       2022-11-11 23:59:59+00:00            For now, Earth             0   \n",
       "1       2022-11-11 23:59:57+00:00                    Panama          8866   \n",
       "2       2022-11-11 23:59:55+00:00               Seattle, WA             0   \n",
       "3       2022-11-11 23:59:53+00:00           London, England             0   \n",
       "4       2022-11-11 23:59:51+00:00                       NaN             0   \n",
       "...                           ...                       ...           ...   \n",
       "396011  2022-11-12 22:52:11+00:00     Hauts de France 🇫🇷 🇪🇺            20   \n",
       "396012  2022-11-12 22:52:09+00:00  Belgrade, Serbia, Europe          1041   \n",
       "396013  2022-11-12 22:52:04+00:00                  Guernsey             0   \n",
       "396014  2022-11-12 22:52:02+00:00                   🇮🇪🇪🇺🇺🇦🎮           189   \n",
       "396015  2022-11-12 22:51:59+00:00                       NaN             0   \n",
       "\n",
       "       like_count  hashtags         username  following  ...   0   1   2   3  \\\n",
       "0               1      #ftx     johnmorganFL      630.0  ... NaN NaN NaN NaN   \n",
       "1               0      #ftx          KuKzNFT      594.0  ... NaN NaN NaN NaN   \n",
       "2               0      #ftx    MeAndMySports      315.0  ... NaN NaN NaN NaN   \n",
       "3               0      #ftx        thedoc7er     1513.0  ... NaN NaN NaN NaN   \n",
       "4               1      #ftx      jesseypaul4      123.0  ... NaN NaN NaN NaN   \n",
       "...           ...       ...              ...        ...  ...  ..  ..  ..  ..   \n",
       "396011          0  #ukraine  annetteashley61    10522.0  ... NaN NaN NaN NaN   \n",
       "396012          0  #ukraine         svrhovac      222.0  ... NaN NaN NaN NaN   \n",
       "396013          0  #ukraine      TimBarker10     2668.0  ... NaN NaN NaN NaN   \n",
       "396014          0  #ukraine    Aontaithe2021     5001.0  ... NaN NaN NaN NaN   \n",
       "396015          0  #ukraine            vbl68       28.0  ... NaN NaN NaN NaN   \n",
       "\n",
       "         4   5   6   7   8   9  \n",
       "0      NaN NaN NaN NaN NaN NaN  \n",
       "1      NaN NaN NaN NaN NaN NaN  \n",
       "2      NaN NaN NaN NaN NaN NaN  \n",
       "3      NaN NaN NaN NaN NaN NaN  \n",
       "4      NaN NaN NaN NaN NaN NaN  \n",
       "...     ..  ..  ..  ..  ..  ..  \n",
       "396011 NaN NaN NaN NaN NaN NaN  \n",
       "396012 NaN NaN NaN NaN NaN NaN  \n",
       "396013 NaN NaN NaN NaN NaN NaN  \n",
       "396014 NaN NaN NaN NaN NaN NaN  \n",
       "396015 NaN NaN NaN NaN NaN NaN  \n",
       "\n",
       "[396016 rows x 24 columns]"
      ]
     },
     "execution_count": 3,
     "metadata": {},
     "output_type": "execute_result"
    }
   ],
   "source": [
    "data = pd.read_csv('data/cleaned.csv')\n",
    "data"
   ]
  },
  {
   "cell_type": "code",
   "execution_count": 4,
   "id": "d0d998dd",
   "metadata": {},
   "outputs": [
    {
     "data": {
      "text/plain": [
       "Index(['Unnamed: 0', 'id', 'text', 'create_at', 'geo', 'retweet_count',\n",
       "       'like_count', 'hashtags', 'username', 'following', 'followers',\n",
       "       'user_total_tweets', 'user_likes_count', 'cleaned_text', '0', '1', '2',\n",
       "       '3', '4', '5', '6', '7', '8', '9'],\n",
       "      dtype='object')"
      ]
     },
     "execution_count": 4,
     "metadata": {},
     "output_type": "execute_result"
    }
   ],
   "source": [
    "data.columns"
   ]
  },
  {
   "cell_type": "code",
   "execution_count": 5,
   "id": "524ce33c",
   "metadata": {},
   "outputs": [
    {
     "data": {
      "text/plain": [
       "#ukraine          50400\n",
       "#covid            50400\n",
       "#christmas        49780\n",
       "#vegan            49702\n",
       "#climatechange    48578\n",
       "#ftx              46350\n",
       "22.0                  2\n",
       "ShopParaTi            2\n",
       "Name: hashtags, dtype: int64"
      ]
     },
     "execution_count": 5,
     "metadata": {},
     "output_type": "execute_result"
    }
   ],
   "source": [
    "data['hashtags'].value_counts()"
   ]
  },
  {
   "cell_type": "markdown",
   "id": "3e60a9a7",
   "metadata": {},
   "source": [
    "remove tags"
   ]
  },
  {
   "cell_type": "code",
   "execution_count": 6,
   "id": "616129a3",
   "metadata": {},
   "outputs": [
    {
     "data": {
      "text/plain": [
       "#ukraine          50400\n",
       "#covid            50400\n",
       "#christmas        49780\n",
       "#vegan            49702\n",
       "#climatechange    48578\n",
       "#ftx              46350\n",
       "Name: hashtags, dtype: int64"
      ]
     },
     "execution_count": 6,
     "metadata": {},
     "output_type": "execute_result"
    }
   ],
   "source": [
    "data = data[(data['hashtags']!='ShopParaTi') & (data['hashtags']!='22.0')]\n",
    "data['hashtags'].value_counts()"
   ]
  },
  {
   "cell_type": "markdown",
   "id": "66c076c5",
   "metadata": {},
   "source": [
    "one-hot encoding hashtags"
   ]
  },
  {
   "cell_type": "code",
   "execution_count": 7,
   "id": "995dae54",
   "metadata": {},
   "outputs": [
    {
     "data": {
      "text/plain": [
       "Index(['Unnamed: 0', 'id', 'text', 'create_at', 'geo', 'retweet_count',\n",
       "       'like_count', 'username', 'following', 'followers', 'user_total_tweets',\n",
       "       'user_likes_count', 'cleaned_text', '0', '1', '2', '3', '4', '5', '6',\n",
       "       '7', '8', '9', 'hashtags_#christmas', 'hashtags_#climatechange',\n",
       "       'hashtags_#covid', 'hashtags_#ftx', 'hashtags_#ukraine',\n",
       "       'hashtags_#vegan'],\n",
       "      dtype='object')"
      ]
     },
     "execution_count": 7,
     "metadata": {},
     "output_type": "execute_result"
    }
   ],
   "source": [
    "data = pd.get_dummies(data=data, columns=['hashtags'])\n",
    "data.columns"
   ]
  },
  {
   "cell_type": "markdown",
   "id": "b85075ed",
   "metadata": {},
   "source": [
    "get useful columns"
   ]
  },
  {
   "cell_type": "code",
   "execution_count": 8,
   "id": "f0dde9ef",
   "metadata": {},
   "outputs": [],
   "source": [
    "useful_columns = [\n",
    "    'following',\n",
    "    'followers', \n",
    "    'user_total_tweets',\n",
    "    'user_likes_count',\n",
    "    'hashtags_#christmas', \n",
    "    'hashtags_#climatechange',\n",
    "    'hashtags_#covid', \n",
    "    'hashtags_#ftx', \n",
    "    'hashtags_#ukraine',\n",
    "    'hashtags_#vegan',\n",
    "    'retweet_count', \n",
    "    'like_count'\n",
    "]\n",
    "\n",
    "all_features = [\n",
    "    'following',\n",
    "    'followers', \n",
    "    'user_total_tweets',\n",
    "    'user_likes_count', \n",
    "    'hashtags_#christmas', \n",
    "    'hashtags_#climatechange',\n",
    "    'hashtags_#covid', \n",
    "    'hashtags_#ftx', \n",
    "    'hashtags_#ukraine',\n",
    "    'hashtags_#vegan'\n",
    "]\n",
    "data_baseline = data[useful_columns]"
   ]
  },
  {
   "cell_type": "markdown",
   "id": "a15eb448",
   "metadata": {},
   "source": [
    "remove NaN and transform data type"
   ]
  },
  {
   "cell_type": "code",
   "execution_count": 9,
   "id": "dac699fd",
   "metadata": {},
   "outputs": [
    {
     "name": "stdout",
     "output_type": "stream",
     "text": [
      "<class 'pandas.core.frame.DataFrame'>\n",
      "Int64Index: 396012 entries, 0 to 396015\n",
      "Data columns (total 12 columns):\n",
      " #   Column                   Non-Null Count   Dtype  \n",
      "---  ------                   --------------   -----  \n",
      " 0   following                295210 non-null  float64\n",
      " 1   followers                295210 non-null  object \n",
      " 2   user_total_tweets        295210 non-null  float64\n",
      " 3   user_likes_count         295210 non-null  object \n",
      " 4   hashtags_#christmas      396012 non-null  uint8  \n",
      " 5   hashtags_#climatechange  396012 non-null  uint8  \n",
      " 6   hashtags_#covid          396012 non-null  uint8  \n",
      " 7   hashtags_#ftx            396012 non-null  uint8  \n",
      " 8   hashtags_#ukraine        396012 non-null  uint8  \n",
      " 9   hashtags_#vegan          396012 non-null  uint8  \n",
      " 10  retweet_count            295210 non-null  object \n",
      " 11  like_count               295210 non-null  object \n",
      "dtypes: float64(2), object(4), uint8(6)\n",
      "memory usage: 23.4+ MB\n"
     ]
    }
   ],
   "source": [
    "data_baseline.info()"
   ]
  },
  {
   "cell_type": "code",
   "execution_count": 10,
   "id": "48c34b9e",
   "metadata": {},
   "outputs": [],
   "source": [
    "data_baseline.dropna(inplace=True)\n",
    "data_baseline[['retweet_count','like_count','following','followers','user_total_tweets','user_likes_count']] = data_baseline[['retweet_count','like_count','following','followers','user_total_tweets','user_likes_count']].astype('float')"
   ]
  },
  {
   "cell_type": "code",
   "execution_count": 11,
   "id": "d83982e6",
   "metadata": {},
   "outputs": [
    {
     "name": "stdout",
     "output_type": "stream",
     "text": [
      "<class 'pandas.core.frame.DataFrame'>\n",
      "Int64Index: 295210 entries, 0 to 396015\n",
      "Data columns (total 12 columns):\n",
      " #   Column                   Non-Null Count   Dtype  \n",
      "---  ------                   --------------   -----  \n",
      " 0   following                295210 non-null  float64\n",
      " 1   followers                295210 non-null  float64\n",
      " 2   user_total_tweets        295210 non-null  float64\n",
      " 3   user_likes_count         295210 non-null  float64\n",
      " 4   hashtags_#christmas      295210 non-null  uint8  \n",
      " 5   hashtags_#climatechange  295210 non-null  uint8  \n",
      " 6   hashtags_#covid          295210 non-null  uint8  \n",
      " 7   hashtags_#ftx            295210 non-null  uint8  \n",
      " 8   hashtags_#ukraine        295210 non-null  uint8  \n",
      " 9   hashtags_#vegan          295210 non-null  uint8  \n",
      " 10  retweet_count            295210 non-null  float64\n",
      " 11  like_count               295210 non-null  float64\n",
      "dtypes: float64(6), uint8(6)\n",
      "memory usage: 17.5 MB\n"
     ]
    }
   ],
   "source": [
    "data_baseline.info()"
   ]
  },
  {
   "cell_type": "markdown",
   "id": "83b7d913",
   "metadata": {},
   "source": [
    "put data into bins"
   ]
  },
  {
   "cell_type": "markdown",
   "id": "6c64f236",
   "metadata": {},
   "source": [
    "baseline (dummy)"
   ]
  },
  {
   "cell_type": "code",
   "execution_count": 12,
   "id": "abcbbf19",
   "metadata": {},
   "outputs": [
    {
     "data": {
      "text/html": [
       "<div>\n",
       "<style scoped>\n",
       "    .dataframe tbody tr th:only-of-type {\n",
       "        vertical-align: middle;\n",
       "    }\n",
       "\n",
       "    .dataframe tbody tr th {\n",
       "        vertical-align: top;\n",
       "    }\n",
       "\n",
       "    .dataframe thead th {\n",
       "        text-align: right;\n",
       "    }\n",
       "</style>\n",
       "<table border=\"1\" class=\"dataframe\">\n",
       "  <thead>\n",
       "    <tr style=\"text-align: right;\">\n",
       "      <th></th>\n",
       "      <th>following</th>\n",
       "      <th>followers</th>\n",
       "      <th>user_total_tweets</th>\n",
       "      <th>user_likes_count</th>\n",
       "      <th>hashtags_#christmas</th>\n",
       "      <th>hashtags_#climatechange</th>\n",
       "      <th>hashtags_#covid</th>\n",
       "      <th>hashtags_#ftx</th>\n",
       "      <th>hashtags_#ukraine</th>\n",
       "      <th>hashtags_#vegan</th>\n",
       "    </tr>\n",
       "  </thead>\n",
       "  <tbody>\n",
       "    <tr>\n",
       "      <th>0</th>\n",
       "      <td>630.0</td>\n",
       "      <td>28492.0</td>\n",
       "      <td>240872.0</td>\n",
       "      <td>111.0</td>\n",
       "      <td>0</td>\n",
       "      <td>0</td>\n",
       "      <td>0</td>\n",
       "      <td>1</td>\n",
       "      <td>0</td>\n",
       "      <td>0</td>\n",
       "    </tr>\n",
       "  </tbody>\n",
       "</table>\n",
       "</div>"
      ],
      "text/plain": [
       "   following  followers  user_total_tweets  user_likes_count  \\\n",
       "0      630.0    28492.0           240872.0             111.0   \n",
       "\n",
       "   hashtags_#christmas  hashtags_#climatechange  hashtags_#covid  \\\n",
       "0                    0                        0                0   \n",
       "\n",
       "   hashtags_#ftx  hashtags_#ukraine  hashtags_#vegan  \n",
       "0              1                  0                0  "
      ]
     },
     "execution_count": 12,
     "metadata": {},
     "output_type": "execute_result"
    }
   ],
   "source": [
    "features = data_baseline[all_features]\n",
    "features.head(1)"
   ]
  },
  {
   "cell_type": "code",
   "execution_count": 13,
   "id": "fcb9a621",
   "metadata": {
    "tags": []
   },
   "outputs": [
    {
     "data": {
      "text/plain": [
       "0         1.0\n",
       "1         0.0\n",
       "2         0.0\n",
       "3         0.0\n",
       "4         1.0\n",
       "         ... \n",
       "396011    0.0\n",
       "396012    0.0\n",
       "396013    0.0\n",
       "396014    0.0\n",
       "396015    0.0\n",
       "Name: like_count, Length: 295210, dtype: float64"
      ]
     },
     "execution_count": 13,
     "metadata": {},
     "output_type": "execute_result"
    }
   ],
   "source": [
    "labels = data_baseline['like_count']\n",
    "labels"
   ]
  },
  {
   "cell_type": "code",
   "execution_count": 14,
   "id": "054794b4",
   "metadata": {},
   "outputs": [],
   "source": [
    "X_train, X_test, y_train, y_test = train_test_split(features, labels, test_size=0.2, random_state=42)"
   ]
  },
  {
   "cell_type": "code",
   "execution_count": 15,
   "id": "fbd3581e",
   "metadata": {},
   "outputs": [
    {
     "data": {
      "text/plain": [
       "(59042, 59042)"
      ]
     },
     "execution_count": 15,
     "metadata": {},
     "output_type": "execute_result"
    }
   ],
   "source": [
    "len(X_test), len(y_test)"
   ]
  },
  {
   "cell_type": "code",
   "execution_count": 17,
   "id": "b42ab224",
   "metadata": {},
   "outputs": [
    {
     "data": {
      "text/plain": [
       "1.2216213616255083"
      ]
     },
     "execution_count": 17,
     "metadata": {},
     "output_type": "execute_result"
    }
   ],
   "source": [
    "from sklearn.dummy import DummyRegressor\n",
    "from sklearn.metrics import mean_squared_log_error\n",
    "\n",
    "dummy1 = DummyRegressor()\n",
    "dummy1.fit(X_train, y_train)\n",
    "mean_squared_log_error(y_test, dummy1.predict(X_test))"
   ]
  },
  {
   "cell_type": "code",
   "execution_count": 18,
   "id": "387dda33",
   "metadata": {},
   "outputs": [
    {
     "data": {
      "text/plain": [
       "0.4714767362354678"
      ]
     },
     "execution_count": 18,
     "metadata": {},
     "output_type": "execute_result"
    }
   ],
   "source": [
    "dummy2 = DummyRegressor(strategy='constant', constant=0)\n",
    "dummy2.fit(X_train, y_train)\n",
    "mean_squared_log_error(y_test, dummy2.predict(X_test))"
   ]
  },
  {
   "cell_type": "markdown",
   "id": "bfc4d3b3",
   "metadata": {},
   "source": [
    "baseline 2 (selected features)"
   ]
  },
  {
   "cell_type": "code",
   "execution_count": 19,
   "id": "ab445f24",
   "metadata": {},
   "outputs": [
    {
     "data": {
      "text/plain": [
       "0.27317414859109357"
      ]
     },
     "execution_count": 19,
     "metadata": {},
     "output_type": "execute_result"
    }
   ],
   "source": [
    "rf = RandomForestRegressor(random_state=0)\n",
    "rf.fit(X_train,y_train)\n",
    "mean_squared_log_error(y_test, rf.predict(X_test))"
   ]
  },
  {
   "cell_type": "code",
   "execution_count": 20,
   "id": "9029f03b",
   "metadata": {},
   "outputs": [
    {
     "data": {
      "text/plain": [
       "1.6723774497489174"
      ]
     },
     "execution_count": 20,
     "metadata": {},
     "output_type": "execute_result"
    }
   ],
   "source": [
    "ada_reg = AdaBoostRegressor(random_state=0, n_estimators = 50)\n",
    "ada_reg.fit(X_train,y_train)\n",
    "mean_squared_log_error(y_test, ada_reg.predict(X_test))"
   ]
  },
  {
   "cell_type": "code",
   "execution_count": 21,
   "id": "25347044",
   "metadata": {},
   "outputs": [
    {
     "data": {
      "text/plain": [
       "0.3492666310460222"
      ]
     },
     "execution_count": 21,
     "metadata": {},
     "output_type": "execute_result"
    }
   ],
   "source": [
    "knn = KNeighborsRegressor(n_neighbors=5)\n",
    "knn.fit(X_train, y_train)\n",
    "mean_squared_log_error(y_test, knn.predict(X_test))"
   ]
  },
  {
   "cell_type": "code",
   "execution_count": null,
   "metadata": {},
   "outputs": [],
   "source": []
  }
 ],
 "metadata": {
  "kernelspec": {
   "display_name": "Python 3",
   "language": "python",
   "name": "python3"
  },
  "language_info": {
   "codemirror_mode": {
    "name": "ipython",
    "version": 3
   },
   "file_extension": ".py",
   "mimetype": "text/x-python",
   "name": "python",
   "nbconvert_exporter": "python",
   "pygments_lexer": "ipython3",
   "version": "3.8.5"
  }
 },
 "nbformat": 4,
 "nbformat_minor": 5
}
