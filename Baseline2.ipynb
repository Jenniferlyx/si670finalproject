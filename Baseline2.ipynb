{
 "cells": [
  {
   "cell_type": "code",
   "execution_count": 20,
   "metadata": {},
   "outputs": [],
   "source": [
    "import pandas as pd\n",
    "import numpy as np\n",
    "from matplotlib import pyplot as plt\n",
    "from datetime import datetime\n",
    "from sklearn.metrics import mean_squared_error\n",
    "from sklearn.model_selection import train_test_split\n",
    "from sklearn.preprocessing import StandardScaler\n",
    "from sklearn.neighbors import KNeighborsRegressor\n",
    "from sklearn.preprocessing import MinMaxScaler\n",
    "from sklearn.svm import SVR\n",
    "from sklearn.model_selection import GridSearchCV\n",
    "from sklearn.model_selection import cross_val_score\n",
    "from sklearn.pipeline import Pipeline\n",
    "import xgboost as xgb\n",
    "from sklearn.ensemble import AdaBoostRegressor, GradientBoostingRegressor\n",
    "from sklearn.preprocessing import OneHotEncoder\n",
    "import pandas as pd\n",
    "import numpy as np\n",
    "import datetime\n",
    "from sklearn.linear_model import Lasso\n",
    "from sklearn.linear_model import Ridge\n",
    "from sklearn.linear_model import LinearRegression\n",
    "from sklearn.ensemble import RandomForestRegressor\n",
    "from sklearn.tree import DecisionTreeRegressor\n",
    "from sklearn.metrics import r2_score\n",
    "import warnings\n",
    "warnings.filterwarnings(\"ignore\")"
   ]
  },
  {
   "cell_type": "code",
   "execution_count": 2,
   "metadata": {},
   "outputs": [
    {
     "data": {
      "text/html": [
       "<div>\n",
       "<style scoped>\n",
       "    .dataframe tbody tr th:only-of-type {\n",
       "        vertical-align: middle;\n",
       "    }\n",
       "\n",
       "    .dataframe tbody tr th {\n",
       "        vertical-align: top;\n",
       "    }\n",
       "\n",
       "    .dataframe thead th {\n",
       "        text-align: right;\n",
       "    }\n",
       "</style>\n",
       "<table border=\"1\" class=\"dataframe\">\n",
       "  <thead>\n",
       "    <tr style=\"text-align: right;\">\n",
       "      <th></th>\n",
       "      <th>Unnamed: 0</th>\n",
       "      <th>id</th>\n",
       "      <th>text</th>\n",
       "      <th>create_at</th>\n",
       "      <th>geo</th>\n",
       "      <th>retweet_count</th>\n",
       "      <th>like_count</th>\n",
       "      <th>hashtags</th>\n",
       "      <th>username</th>\n",
       "      <th>following</th>\n",
       "      <th>followers</th>\n",
       "      <th>user_total_tweets</th>\n",
       "      <th>user_likes_count</th>\n",
       "      <th>cleaned_text</th>\n",
       "      <th>0</th>\n",
       "      <th>1</th>\n",
       "      <th>2</th>\n",
       "      <th>3</th>\n",
       "      <th>4</th>\n",
       "    </tr>\n",
       "  </thead>\n",
       "  <tbody>\n",
       "    <tr>\n",
       "      <th>0</th>\n",
       "      <td>0</td>\n",
       "      <td>1.591219e+18</td>\n",
       "      <td>'Like a 1930s Dictator': Vitalik Buterin Lays ...</td>\n",
       "      <td>2022-11-11 23:59:59+00:00</td>\n",
       "      <td>For now, Earth</td>\n",
       "      <td>0.0</td>\n",
       "      <td>1.0</td>\n",
       "      <td>#ftx</td>\n",
       "      <td>johnmorganFL</td>\n",
       "      <td>630.0</td>\n",
       "      <td>28492.0</td>\n",
       "      <td>240872.0</td>\n",
       "      <td>111.0</td>\n",
       "      <td>like dictator vitalik buterin lay sam bankmanf...</td>\n",
       "      <td>-0.190527</td>\n",
       "      <td>-0.363088</td>\n",
       "      <td>-0.311832</td>\n",
       "      <td>0.111005</td>\n",
       "      <td>-0.058337</td>\n",
       "    </tr>\n",
       "    <tr>\n",
       "      <th>1</th>\n",
       "      <td>1</td>\n",
       "      <td>1.591219e+18</td>\n",
       "      <td>💸 $1,000 #Giveaway 💸\\n\\nWe'll select 10 winner...</td>\n",
       "      <td>2022-11-11 23:59:57+00:00</td>\n",
       "      <td>Panama</td>\n",
       "      <td>8866.0</td>\n",
       "      <td>0.0</td>\n",
       "      <td>#ftx</td>\n",
       "      <td>KuKzNFT</td>\n",
       "      <td>594.0</td>\n",
       "      <td>1014.0</td>\n",
       "      <td>4452.0</td>\n",
       "      <td>8272.0</td>\n",
       "      <td>giveaway select winner randomly award account...</td>\n",
       "      <td>-0.037449</td>\n",
       "      <td>-0.546747</td>\n",
       "      <td>-0.165052</td>\n",
       "      <td>-0.033582</td>\n",
       "      <td>0.046071</td>\n",
       "    </tr>\n",
       "    <tr>\n",
       "      <th>2</th>\n",
       "      <td>2</td>\n",
       "      <td>1.591219e+18</td>\n",
       "      <td>#FTX crazy Shit! #Crypto https://t.co/2GO4X3u2pt</td>\n",
       "      <td>2022-11-11 23:59:55+00:00</td>\n",
       "      <td>Seattle, WA</td>\n",
       "      <td>0.0</td>\n",
       "      <td>0.0</td>\n",
       "      <td>#ftx</td>\n",
       "      <td>MeAndMySports</td>\n",
       "      <td>315.0</td>\n",
       "      <td>342.0</td>\n",
       "      <td>3032.0</td>\n",
       "      <td>1572.0</td>\n",
       "      <td>ftx crazy shit crypto</td>\n",
       "      <td>0.025254</td>\n",
       "      <td>-0.219788</td>\n",
       "      <td>-0.274583</td>\n",
       "      <td>0.085095</td>\n",
       "      <td>-0.137927</td>\n",
       "    </tr>\n",
       "    <tr>\n",
       "      <th>3</th>\n",
       "      <td>3</td>\n",
       "      <td>1.591219e+18</td>\n",
       "      <td>Yo @SBF_FTX, draw me like one of your French g...</td>\n",
       "      <td>2022-11-11 23:59:53+00:00</td>\n",
       "      <td>London, England</td>\n",
       "      <td>0.0</td>\n",
       "      <td>0.0</td>\n",
       "      <td>#ftx</td>\n",
       "      <td>thedoc7er</td>\n",
       "      <td>1513.0</td>\n",
       "      <td>296.0</td>\n",
       "      <td>4541.0</td>\n",
       "      <td>3626.0</td>\n",
       "      <td>draw like french girl ftxcrash ftx binance czb...</td>\n",
       "      <td>-0.170994</td>\n",
       "      <td>-0.371573</td>\n",
       "      <td>-0.023886</td>\n",
       "      <td>-0.041357</td>\n",
       "      <td>-0.136645</td>\n",
       "    </tr>\n",
       "    <tr>\n",
       "      <th>4</th>\n",
       "      <td>4</td>\n",
       "      <td>1.591219e+18</td>\n",
       "      <td>@BitcoinMagazine you you simpletons cant under...</td>\n",
       "      <td>2022-11-11 23:59:51+00:00</td>\n",
       "      <td>NaN</td>\n",
       "      <td>0.0</td>\n",
       "      <td>1.0</td>\n",
       "      <td>#ftx</td>\n",
       "      <td>jesseypaul4</td>\n",
       "      <td>123.0</td>\n",
       "      <td>44.0</td>\n",
       "      <td>317.0</td>\n",
       "      <td>81.0</td>\n",
       "      <td>simpleton understand crypto wallet like exodus...</td>\n",
       "      <td>-0.198903</td>\n",
       "      <td>-0.373405</td>\n",
       "      <td>-0.227012</td>\n",
       "      <td>0.158047</td>\n",
       "      <td>-0.044631</td>\n",
       "    </tr>\n",
       "    <tr>\n",
       "      <th>...</th>\n",
       "      <td>...</td>\n",
       "      <td>...</td>\n",
       "      <td>...</td>\n",
       "      <td>...</td>\n",
       "      <td>...</td>\n",
       "      <td>...</td>\n",
       "      <td>...</td>\n",
       "      <td>...</td>\n",
       "      <td>...</td>\n",
       "      <td>...</td>\n",
       "      <td>...</td>\n",
       "      <td>...</td>\n",
       "      <td>...</td>\n",
       "      <td>...</td>\n",
       "      <td>...</td>\n",
       "      <td>...</td>\n",
       "      <td>...</td>\n",
       "      <td>...</td>\n",
       "      <td>...</td>\n",
       "    </tr>\n",
       "    <tr>\n",
       "      <th>157503</th>\n",
       "      <td>157503</td>\n",
       "      <td>1.591565e+18</td>\n",
       "      <td>🔴 WAR IN 🇺🇦: FRANCE 24 reporter @cntrentF24, w...</td>\n",
       "      <td>2022-11-12 22:52:11+00:00</td>\n",
       "      <td>Hauts de France 🇫🇷 🇪🇺</td>\n",
       "      <td>20.0</td>\n",
       "      <td>0.0</td>\n",
       "      <td>#ukraine</td>\n",
       "      <td>annetteashley61</td>\n",
       "      <td>10522.0</td>\n",
       "      <td>9603.0</td>\n",
       "      <td>437088.0</td>\n",
       "      <td>291392.0</td>\n",
       "      <td>war france reporter spend lot time report ukra...</td>\n",
       "      <td>-0.062705</td>\n",
       "      <td>-0.128675</td>\n",
       "      <td>-0.055065</td>\n",
       "      <td>0.015298</td>\n",
       "      <td>-0.156906</td>\n",
       "    </tr>\n",
       "    <tr>\n",
       "      <th>157504</th>\n",
       "      <td>157504</td>\n",
       "      <td>1.591565e+18</td>\n",
       "      <td>People still celebrating in Kherson and I love...</td>\n",
       "      <td>2022-11-12 22:52:09+00:00</td>\n",
       "      <td>Belgrade, Serbia, Europe</td>\n",
       "      <td>1041.0</td>\n",
       "      <td>0.0</td>\n",
       "      <td>#ukraine</td>\n",
       "      <td>svrhovac</td>\n",
       "      <td>222.0</td>\n",
       "      <td>150.0</td>\n",
       "      <td>9174.0</td>\n",
       "      <td>16675.0</td>\n",
       "      <td>people celebrate kherson love bit ukraine kherson</td>\n",
       "      <td>-0.058628</td>\n",
       "      <td>-0.215833</td>\n",
       "      <td>-0.425018</td>\n",
       "      <td>0.128180</td>\n",
       "      <td>-0.058321</td>\n",
       "    </tr>\n",
       "    <tr>\n",
       "      <th>157505</th>\n",
       "      <td>157505</td>\n",
       "      <td>1.591565e+18</td>\n",
       "      <td>A remarkable story #Ukraine https://t.co/eeBLc...</td>\n",
       "      <td>2022-11-12 22:52:04+00:00</td>\n",
       "      <td>Guernsey</td>\n",
       "      <td>0.0</td>\n",
       "      <td>0.0</td>\n",
       "      <td>#ukraine</td>\n",
       "      <td>TimBarker10</td>\n",
       "      <td>2668.0</td>\n",
       "      <td>1217.0</td>\n",
       "      <td>3290.0</td>\n",
       "      <td>5927.0</td>\n",
       "      <td>remarkable story ukraine</td>\n",
       "      <td>0.029643</td>\n",
       "      <td>-0.241812</td>\n",
       "      <td>-0.006721</td>\n",
       "      <td>0.150215</td>\n",
       "      <td>-0.148847</td>\n",
       "    </tr>\n",
       "    <tr>\n",
       "      <th>157506</th>\n",
       "      <td>157506</td>\n",
       "      <td>1.591565e+18</td>\n",
       "      <td>#Ukraine: Relief in liberated #Kherson after 8...</td>\n",
       "      <td>2022-11-12 22:52:02+00:00</td>\n",
       "      <td>🇮🇪🇪🇺🇺🇦🎮</td>\n",
       "      <td>189.0</td>\n",
       "      <td>0.0</td>\n",
       "      <td>#ukraine</td>\n",
       "      <td>Aontaithe2021</td>\n",
       "      <td>5001.0</td>\n",
       "      <td>2376.0</td>\n",
       "      <td>392315.0</td>\n",
       "      <td>308109.0</td>\n",
       "      <td>ukraine relief liberated kherson month putin ...</td>\n",
       "      <td>0.223750</td>\n",
       "      <td>-0.170265</td>\n",
       "      <td>0.191466</td>\n",
       "      <td>0.264151</td>\n",
       "      <td>-0.158802</td>\n",
       "    </tr>\n",
       "    <tr>\n",
       "      <th>157507</th>\n",
       "      <td>157507</td>\n",
       "      <td>1.591564e+18</td>\n",
       "      <td>Drone Drops Grenade Directly on Russian Soldie...</td>\n",
       "      <td>2022-11-12 22:51:59+00:00</td>\n",
       "      <td>NaN</td>\n",
       "      <td>0.0</td>\n",
       "      <td>0.0</td>\n",
       "      <td>#ukraine</td>\n",
       "      <td>vbl68</td>\n",
       "      <td>28.0</td>\n",
       "      <td>16.0</td>\n",
       "      <td>2760.0</td>\n",
       "      <td>21.0</td>\n",
       "      <td>drone drop grenade directly russian soldier op...</td>\n",
       "      <td>-0.046776</td>\n",
       "      <td>-0.234295</td>\n",
       "      <td>-0.045509</td>\n",
       "      <td>0.163903</td>\n",
       "      <td>-0.124296</td>\n",
       "    </tr>\n",
       "  </tbody>\n",
       "</table>\n",
       "<p>157508 rows × 19 columns</p>\n",
       "</div>"
      ],
      "text/plain": [
       "        Unnamed: 0            id  \\\n",
       "0                0  1.591219e+18   \n",
       "1                1  1.591219e+18   \n",
       "2                2  1.591219e+18   \n",
       "3                3  1.591219e+18   \n",
       "4                4  1.591219e+18   \n",
       "...            ...           ...   \n",
       "157503      157503  1.591565e+18   \n",
       "157504      157504  1.591565e+18   \n",
       "157505      157505  1.591565e+18   \n",
       "157506      157506  1.591565e+18   \n",
       "157507      157507  1.591564e+18   \n",
       "\n",
       "                                                     text  \\\n",
       "0       'Like a 1930s Dictator': Vitalik Buterin Lays ...   \n",
       "1       💸 $1,000 #Giveaway 💸\\n\\nWe'll select 10 winner...   \n",
       "2        #FTX crazy Shit! #Crypto https://t.co/2GO4X3u2pt   \n",
       "3       Yo @SBF_FTX, draw me like one of your French g...   \n",
       "4       @BitcoinMagazine you you simpletons cant under...   \n",
       "...                                                   ...   \n",
       "157503  🔴 WAR IN 🇺🇦: FRANCE 24 reporter @cntrentF24, w...   \n",
       "157504  People still celebrating in Kherson and I love...   \n",
       "157505  A remarkable story #Ukraine https://t.co/eeBLc...   \n",
       "157506  #Ukraine: Relief in liberated #Kherson after 8...   \n",
       "157507  Drone Drops Grenade Directly on Russian Soldie...   \n",
       "\n",
       "                        create_at                       geo  retweet_count  \\\n",
       "0       2022-11-11 23:59:59+00:00            For now, Earth            0.0   \n",
       "1       2022-11-11 23:59:57+00:00                    Panama         8866.0   \n",
       "2       2022-11-11 23:59:55+00:00               Seattle, WA            0.0   \n",
       "3       2022-11-11 23:59:53+00:00           London, England            0.0   \n",
       "4       2022-11-11 23:59:51+00:00                       NaN            0.0   \n",
       "...                           ...                       ...            ...   \n",
       "157503  2022-11-12 22:52:11+00:00     Hauts de France 🇫🇷 🇪🇺           20.0   \n",
       "157504  2022-11-12 22:52:09+00:00  Belgrade, Serbia, Europe         1041.0   \n",
       "157505  2022-11-12 22:52:04+00:00                  Guernsey            0.0   \n",
       "157506  2022-11-12 22:52:02+00:00                   🇮🇪🇪🇺🇺🇦🎮          189.0   \n",
       "157507  2022-11-12 22:51:59+00:00                       NaN            0.0   \n",
       "\n",
       "        like_count  hashtags         username  following  followers  \\\n",
       "0              1.0      #ftx     johnmorganFL      630.0    28492.0   \n",
       "1              0.0      #ftx          KuKzNFT      594.0     1014.0   \n",
       "2              0.0      #ftx    MeAndMySports      315.0      342.0   \n",
       "3              0.0      #ftx        thedoc7er     1513.0      296.0   \n",
       "4              1.0      #ftx      jesseypaul4      123.0       44.0   \n",
       "...            ...       ...              ...        ...        ...   \n",
       "157503         0.0  #ukraine  annetteashley61    10522.0     9603.0   \n",
       "157504         0.0  #ukraine         svrhovac      222.0      150.0   \n",
       "157505         0.0  #ukraine      TimBarker10     2668.0     1217.0   \n",
       "157506         0.0  #ukraine    Aontaithe2021     5001.0     2376.0   \n",
       "157507         0.0  #ukraine            vbl68       28.0       16.0   \n",
       "\n",
       "        user_total_tweets  user_likes_count  \\\n",
       "0                240872.0             111.0   \n",
       "1                  4452.0            8272.0   \n",
       "2                  3032.0            1572.0   \n",
       "3                  4541.0            3626.0   \n",
       "4                   317.0              81.0   \n",
       "...                   ...               ...   \n",
       "157503           437088.0          291392.0   \n",
       "157504             9174.0           16675.0   \n",
       "157505             3290.0            5927.0   \n",
       "157506           392315.0          308109.0   \n",
       "157507             2760.0              21.0   \n",
       "\n",
       "                                             cleaned_text         0         1  \\\n",
       "0       like dictator vitalik buterin lay sam bankmanf... -0.190527 -0.363088   \n",
       "1        giveaway select winner randomly award account... -0.037449 -0.546747   \n",
       "2                                   ftx crazy shit crypto  0.025254 -0.219788   \n",
       "3       draw like french girl ftxcrash ftx binance czb... -0.170994 -0.371573   \n",
       "4       simpleton understand crypto wallet like exodus... -0.198903 -0.373405   \n",
       "...                                                   ...       ...       ...   \n",
       "157503  war france reporter spend lot time report ukra... -0.062705 -0.128675   \n",
       "157504  people celebrate kherson love bit ukraine kherson -0.058628 -0.215833   \n",
       "157505                           remarkable story ukraine  0.029643 -0.241812   \n",
       "157506   ukraine relief liberated kherson month putin ...  0.223750 -0.170265   \n",
       "157507  drone drop grenade directly russian soldier op... -0.046776 -0.234295   \n",
       "\n",
       "               2         3         4  \n",
       "0      -0.311832  0.111005 -0.058337  \n",
       "1      -0.165052 -0.033582  0.046071  \n",
       "2      -0.274583  0.085095 -0.137927  \n",
       "3      -0.023886 -0.041357 -0.136645  \n",
       "4      -0.227012  0.158047 -0.044631  \n",
       "...          ...       ...       ...  \n",
       "157503 -0.055065  0.015298 -0.156906  \n",
       "157504 -0.425018  0.128180 -0.058321  \n",
       "157505 -0.006721  0.150215 -0.148847  \n",
       "157506  0.191466  0.264151 -0.158802  \n",
       "157507 -0.045509  0.163903 -0.124296  \n",
       "\n",
       "[157508 rows x 19 columns]"
      ]
     },
     "execution_count": 2,
     "metadata": {},
     "output_type": "execute_result"
    }
   ],
   "source": [
    "data = pd.read_csv('data/doc_embedding/doc2vec_5.csv.gz', compression='gzip', low_memory=False, lineterminator='\\n', index_col=None)\n",
    "data"
   ]
  },
  {
   "cell_type": "code",
   "execution_count": 3,
   "metadata": {},
   "outputs": [
    {
     "data": {
      "text/plain": [
       "Index(['Unnamed: 0', 'id', 'text', 'create_at', 'geo', 'retweet_count',\n",
       "       'like_count', 'hashtags', 'username', 'following', 'followers',\n",
       "       'user_total_tweets', 'user_likes_count', 'cleaned_text', '0', '1', '2',\n",
       "       '3', '4'],\n",
       "      dtype='object')"
      ]
     },
     "execution_count": 3,
     "metadata": {},
     "output_type": "execute_result"
    }
   ],
   "source": [
    "data.columns"
   ]
  },
  {
   "cell_type": "code",
   "execution_count": 4,
   "metadata": {},
   "outputs": [
    {
     "data": {
      "text/plain": [
       "#covid            27000\n",
       "#ukraine          27000\n",
       "#christmas        26692\n",
       "#vegan            26651\n",
       "#climatechange    26089\n",
       "#ftx              24076\n",
       "Name: hashtags, dtype: int64"
      ]
     },
     "execution_count": 4,
     "metadata": {},
     "output_type": "execute_result"
    }
   ],
   "source": [
    "data['hashtags'].value_counts()"
   ]
  },
  {
   "cell_type": "code",
   "execution_count": 5,
   "metadata": {},
   "outputs": [],
   "source": [
    "data['like_count_log'] = np.log(data['like_count']+1)\n",
    "data['retweet_count_log'] = np.log(data['retweet_count']+1)"
   ]
  },
  {
   "cell_type": "markdown",
   "metadata": {},
   "source": [
    "get useful columns"
   ]
  },
  {
   "cell_type": "code",
   "execution_count": 6,
   "metadata": {},
   "outputs": [],
   "source": [
    "useful_columns = [\n",
    "    'following',\n",
    "    'followers', \n",
    "    'user_total_tweets',\n",
    "    'user_likes_count',\n",
    "    'retweet_count_log', \n",
    "    'like_count_log',\n",
    "    '0','1','2','3','4'\n",
    "]\n",
    "\n",
    "all_features = [\n",
    "    'following',\n",
    "    'followers', \n",
    "    'user_total_tweets',\n",
    "    'user_likes_count', \n",
    "    '0','1','2','3','4'\n",
    "]\n",
    "data_baseline = data[useful_columns]"
   ]
  },
  {
   "cell_type": "code",
   "execution_count": 7,
   "metadata": {},
   "outputs": [
    {
     "name": "stdout",
     "output_type": "stream",
     "text": [
      "<class 'pandas.core.frame.DataFrame'>\n",
      "RangeIndex: 157508 entries, 0 to 157507\n",
      "Data columns (total 11 columns):\n",
      " #   Column             Non-Null Count   Dtype  \n",
      "---  ------             --------------   -----  \n",
      " 0   following          157508 non-null  float64\n",
      " 1   followers          157508 non-null  float64\n",
      " 2   user_total_tweets  157508 non-null  float64\n",
      " 3   user_likes_count   157508 non-null  float64\n",
      " 4   retweet_count_log  157508 non-null  float64\n",
      " 5   like_count_log     157508 non-null  float64\n",
      " 6   0                  157508 non-null  float64\n",
      " 7   1                  157508 non-null  float64\n",
      " 8   2                  157508 non-null  float64\n",
      " 9   3                  157508 non-null  float64\n",
      " 10  4                  157508 non-null  float64\n",
      "dtypes: float64(11)\n",
      "memory usage: 13.2 MB\n"
     ]
    }
   ],
   "source": [
    "data_baseline.info()"
   ]
  },
  {
   "cell_type": "markdown",
   "metadata": {},
   "source": [
    "baseline (dummy)"
   ]
  },
  {
   "cell_type": "code",
   "execution_count": 8,
   "metadata": {},
   "outputs": [
    {
     "data": {
      "text/html": [
       "<div>\n",
       "<style scoped>\n",
       "    .dataframe tbody tr th:only-of-type {\n",
       "        vertical-align: middle;\n",
       "    }\n",
       "\n",
       "    .dataframe tbody tr th {\n",
       "        vertical-align: top;\n",
       "    }\n",
       "\n",
       "    .dataframe thead th {\n",
       "        text-align: right;\n",
       "    }\n",
       "</style>\n",
       "<table border=\"1\" class=\"dataframe\">\n",
       "  <thead>\n",
       "    <tr style=\"text-align: right;\">\n",
       "      <th></th>\n",
       "      <th>following</th>\n",
       "      <th>followers</th>\n",
       "      <th>user_total_tweets</th>\n",
       "      <th>user_likes_count</th>\n",
       "      <th>0</th>\n",
       "      <th>1</th>\n",
       "      <th>2</th>\n",
       "      <th>3</th>\n",
       "      <th>4</th>\n",
       "    </tr>\n",
       "  </thead>\n",
       "  <tbody>\n",
       "    <tr>\n",
       "      <th>0</th>\n",
       "      <td>630.0</td>\n",
       "      <td>28492.0</td>\n",
       "      <td>240872.0</td>\n",
       "      <td>111.0</td>\n",
       "      <td>-0.190527</td>\n",
       "      <td>-0.363088</td>\n",
       "      <td>-0.311832</td>\n",
       "      <td>0.111005</td>\n",
       "      <td>-0.058337</td>\n",
       "    </tr>\n",
       "  </tbody>\n",
       "</table>\n",
       "</div>"
      ],
      "text/plain": [
       "   following  followers  user_total_tweets  user_likes_count         0  \\\n",
       "0      630.0    28492.0           240872.0             111.0 -0.190527   \n",
       "\n",
       "          1         2         3         4  \n",
       "0 -0.363088 -0.311832  0.111005 -0.058337  "
      ]
     },
     "execution_count": 8,
     "metadata": {},
     "output_type": "execute_result"
    }
   ],
   "source": [
    "features = data_baseline[all_features]\n",
    "features.head(1)"
   ]
  },
  {
   "cell_type": "code",
   "execution_count": 9,
   "metadata": {
    "tags": []
   },
   "outputs": [
    {
     "data": {
      "text/plain": [
       "count    157508.000000\n",
       "mean          0.215542\n",
       "std           0.648805\n",
       "min           0.000000\n",
       "25%           0.000000\n",
       "50%           0.000000\n",
       "75%           0.000000\n",
       "max           8.841159\n",
       "Name: like_count_log, dtype: float64"
      ]
     },
     "execution_count": 9,
     "metadata": {},
     "output_type": "execute_result"
    }
   ],
   "source": [
    "labels_like = data_baseline['like_count_log']\n",
    "labels_like.describe()"
   ]
  },
  {
   "cell_type": "code",
   "execution_count": 10,
   "metadata": {},
   "outputs": [
    {
     "data": {
      "text/plain": [
       "count    157508.000000\n",
       "mean          3.121754\n",
       "std           2.623077\n",
       "min           0.000000\n",
       "25%           0.693147\n",
       "50%           2.708050\n",
       "75%           5.298317\n",
       "max          11.903974\n",
       "Name: retweet_count_log, dtype: float64"
      ]
     },
     "execution_count": 10,
     "metadata": {},
     "output_type": "execute_result"
    }
   ],
   "source": [
    "labels_retweet = data_baseline['retweet_count_log']\n",
    "labels_retweet.describe()"
   ]
  },
  {
   "cell_type": "code",
   "execution_count": 12,
   "metadata": {},
   "outputs": [],
   "source": [
    "X_train, X_test, y_train, y_test = train_test_split(features, labels_like, test_size=0.2, random_state=42)"
   ]
  },
  {
   "cell_type": "code",
   "execution_count": 13,
   "metadata": {},
   "outputs": [],
   "source": [
    "from sklearn.preprocessing import MinMaxScaler\n",
    "\n",
    "scaler = MinMaxScaler()\n",
    "X_train_scaled = scaler.fit_transform(X_train)\n",
    "X_test_scaled = scaler.transform(X_test)"
   ]
  },
  {
   "cell_type": "code",
   "execution_count": 16,
   "metadata": {},
   "outputs": [
    {
     "data": {
      "text/plain": [
       "0.4286044816224323"
      ]
     },
     "execution_count": 16,
     "metadata": {},
     "output_type": "execute_result"
    }
   ],
   "source": [
    "from sklearn.dummy import DummyRegressor\n",
    "from sklearn.metrics import mean_squared_error\n",
    "\n",
    "dummy1 = DummyRegressor(strategy='mean')\n",
    "dummy1.fit(X_train_scaled, y_train)\n",
    "mean_squared_error(y_test, dummy1.predict(X_test_scaled))"
   ]
  },
  {
   "cell_type": "code",
   "execution_count": 15,
   "metadata": {},
   "outputs": [
    {
     "data": {
      "text/plain": [
       "0.47470842451784023"
      ]
     },
     "execution_count": 15,
     "metadata": {},
     "output_type": "execute_result"
    }
   ],
   "source": [
    "dummy2 = DummyRegressor(strategy='constant', constant=0)\n",
    "dummy2.fit(X_train_scaled, y_train)\n",
    "mean_squared_error(y_test, dummy2.predict(X_test_scaled))"
   ]
  },
  {
   "cell_type": "markdown",
   "metadata": {},
   "source": [
    "baseline 2 (selected features)"
   ]
  },
  {
   "cell_type": "code",
   "execution_count": 17,
   "metadata": {},
   "outputs": [
    {
     "data": {
      "text/plain": [
       "0.42064415257864357"
      ]
     },
     "execution_count": 17,
     "metadata": {},
     "output_type": "execute_result"
    }
   ],
   "source": [
    "lr = LinearRegression()\n",
    "lr.fit(X_train_scaled,y_train)\n",
    "mean_squared_error(y_test, lr.predict(X_test_scaled))"
   ]
  },
  {
   "cell_type": "code",
   "execution_count": 21,
   "metadata": {},
   "outputs": [
    {
     "data": {
      "text/plain": [
       "0.608564459579297"
      ]
     },
     "execution_count": 21,
     "metadata": {},
     "output_type": "execute_result"
    }
   ],
   "source": [
    "dt = DecisionTreeRegressor()\n",
    "dt.fit(X_train_scaled,y_train)\n",
    "mean_squared_error(y_test, dt.predict(X_test_scaled))"
   ]
  },
  {
   "cell_type": "code",
   "execution_count": 22,
   "metadata": {},
   "outputs": [
    {
     "data": {
      "text/plain": [
       "0.30782779386281156"
      ]
     },
     "execution_count": 22,
     "metadata": {},
     "output_type": "execute_result"
    }
   ],
   "source": [
    "rf = RandomForestRegressor(random_state=0)\n",
    "rf.fit(X_train_scaled,y_train)\n",
    "mean_squared_error(y_test, rf.predict(X_test_scaled))"
   ]
  },
  {
   "cell_type": "code",
   "execution_count": 23,
   "metadata": {},
   "outputs": [
    {
     "data": {
      "text/plain": [
       "0.49652487114110955"
      ]
     },
     "execution_count": 23,
     "metadata": {},
     "output_type": "execute_result"
    }
   ],
   "source": [
    "knn = KNeighborsRegressor(n_neighbors=5)\n",
    "knn.fit(X_train_scaled, y_train)\n",
    "mean_squared_error(y_test, knn.predict(X_test_scaled))"
   ]
  },
  {
   "cell_type": "code",
   "execution_count": null,
   "metadata": {},
   "outputs": [],
   "source": []
  }
 ],
 "metadata": {
  "kernelspec": {
   "display_name": "Python 3",
   "language": "python",
   "name": "python3"
  },
  "language_info": {
   "codemirror_mode": {
    "name": "ipython",
    "version": 3
   },
   "file_extension": ".py",
   "mimetype": "text/x-python",
   "name": "python",
   "nbconvert_exporter": "python",
   "pygments_lexer": "ipython3",
   "version": "3.8.5"
  }
 },
 "nbformat": 4,
 "nbformat_minor": 5
}
