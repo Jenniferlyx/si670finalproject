{
 "cells": [
  {
   "cell_type": "code",
   "execution_count": 1,
   "id": "318ecc07",
   "metadata": {},
   "outputs": [],
   "source": [
    "import pandas as pd\n",
    "import numpy as np\n",
    "from matplotlib import pyplot as plt\n",
    "from datetime import datetime\n",
    "from sklearn.metrics import mean_squared_error\n",
    "from sklearn.model_selection import train_test_split\n",
    "from sklearn.preprocessing import StandardScaler\n",
    "from sklearn.neighbors import KNeighborsRegressor\n",
    "from sklearn.preprocessing import MinMaxScaler\n",
    "from sklearn.svm import SVR\n",
    "from sklearn.model_selection import GridSearchCV\n",
    "from sklearn.model_selection import cross_val_score\n",
    "from sklearn.pipeline import Pipeline\n",
    "import xgboost as xgb\n",
    "from sklearn.ensemble import AdaBoostRegressor, GradientBoostingRegressor\n",
    "from sklearn.preprocessing import OneHotEncoder\n",
    "import pandas as pd\n",
    "import numpy as np\n",
    "import datetime\n",
    "from sklearn.linear_model import Lasso\n",
    "from sklearn.linear_model import Ridge\n",
    "from sklearn.linear_model import LinearRegression\n",
    "from sklearn.ensemble import RandomForestRegressor\n",
    "from sklearn.metrics import r2_score\n",
    "import warnings\n",
    "warnings.filterwarnings(\"ignore\")"
   ]
  },
  {
   "cell_type": "code",
   "execution_count": 2,
   "id": "e89356eb",
   "metadata": {},
   "outputs": [
    {
     "data": {
      "text/html": [
       "<div>\n",
       "<style scoped>\n",
       "    .dataframe tbody tr th:only-of-type {\n",
       "        vertical-align: middle;\n",
       "    }\n",
       "\n",
       "    .dataframe tbody tr th {\n",
       "        vertical-align: top;\n",
       "    }\n",
       "\n",
       "    .dataframe thead th {\n",
       "        text-align: right;\n",
       "    }\n",
       "</style>\n",
       "<table border=\"1\" class=\"dataframe\">\n",
       "  <thead>\n",
       "    <tr style=\"text-align: right;\">\n",
       "      <th></th>\n",
       "      <th>id</th>\n",
       "      <th>text</th>\n",
       "      <th>create_at</th>\n",
       "      <th>geo</th>\n",
       "      <th>retweet_count</th>\n",
       "      <th>like_count</th>\n",
       "      <th>hashtags</th>\n",
       "      <th>username</th>\n",
       "      <th>following</th>\n",
       "      <th>followers</th>\n",
       "      <th>...</th>\n",
       "      <th>0</th>\n",
       "      <th>1</th>\n",
       "      <th>2</th>\n",
       "      <th>3</th>\n",
       "      <th>4</th>\n",
       "      <th>5</th>\n",
       "      <th>6</th>\n",
       "      <th>7</th>\n",
       "      <th>8</th>\n",
       "      <th>9</th>\n",
       "    </tr>\n",
       "  </thead>\n",
       "  <tbody>\n",
       "    <tr>\n",
       "      <th>0</th>\n",
       "      <td>1591219215352336384.0</td>\n",
       "      <td>'Like a 1930s Dictator': Vitalik Buterin Lays ...</td>\n",
       "      <td>2022-11-11 23:59:59+00:00</td>\n",
       "      <td>For now, Earth</td>\n",
       "      <td>0.0</td>\n",
       "      <td>1.0</td>\n",
       "      <td>#ftx</td>\n",
       "      <td>johnmorganFL</td>\n",
       "      <td>630.0</td>\n",
       "      <td>28492.0</td>\n",
       "      <td>...</td>\n",
       "      <td>0.010382</td>\n",
       "      <td>-0.08424</td>\n",
       "      <td>-0.039559</td>\n",
       "      <td>0.184624</td>\n",
       "      <td>-0.086596</td>\n",
       "      <td>0.021903</td>\n",
       "      <td>-0.159313</td>\n",
       "      <td>-0.267359</td>\n",
       "      <td>-0.064923</td>\n",
       "      <td>-0.057562</td>\n",
       "    </tr>\n",
       "    <tr>\n",
       "      <th>1</th>\n",
       "      <td>1591219209123823616.0</td>\n",
       "      <td>💸 $1,000 #Giveaway 💸\\n\\nWe'll select 10 winner...</td>\n",
       "      <td>2022-11-11 23:59:57+00:00</td>\n",
       "      <td>Panama</td>\n",
       "      <td>8866.0</td>\n",
       "      <td>0.0</td>\n",
       "      <td>#ftx</td>\n",
       "      <td>KuKzNFT</td>\n",
       "      <td>594.0</td>\n",
       "      <td>1014.0</td>\n",
       "      <td>...</td>\n",
       "      <td>0.010382</td>\n",
       "      <td>-0.08424</td>\n",
       "      <td>-0.039559</td>\n",
       "      <td>0.184624</td>\n",
       "      <td>-0.086596</td>\n",
       "      <td>0.021903</td>\n",
       "      <td>-0.159313</td>\n",
       "      <td>-0.267359</td>\n",
       "      <td>-0.064923</td>\n",
       "      <td>-0.057562</td>\n",
       "    </tr>\n",
       "    <tr>\n",
       "      <th>2</th>\n",
       "      <td>1591219200546443264.0</td>\n",
       "      <td>#FTX crazy Shit! #Crypto https://t.co/2GO4X3u2pt</td>\n",
       "      <td>2022-11-11 23:59:55+00:00</td>\n",
       "      <td>Seattle, WA</td>\n",
       "      <td>0.0</td>\n",
       "      <td>0.0</td>\n",
       "      <td>#ftx</td>\n",
       "      <td>MeAndMySports</td>\n",
       "      <td>315.0</td>\n",
       "      <td>342.0</td>\n",
       "      <td>...</td>\n",
       "      <td>0.010382</td>\n",
       "      <td>-0.08424</td>\n",
       "      <td>-0.039559</td>\n",
       "      <td>0.184624</td>\n",
       "      <td>-0.086596</td>\n",
       "      <td>0.021903</td>\n",
       "      <td>-0.159313</td>\n",
       "      <td>-0.267359</td>\n",
       "      <td>-0.064923</td>\n",
       "      <td>-0.057562</td>\n",
       "    </tr>\n",
       "    <tr>\n",
       "      <th>3</th>\n",
       "      <td>1591219193537769472.0</td>\n",
       "      <td>Yo @SBF_FTX, draw me like one of your French g...</td>\n",
       "      <td>2022-11-11 23:59:53+00:00</td>\n",
       "      <td>London, England</td>\n",
       "      <td>0.0</td>\n",
       "      <td>0.0</td>\n",
       "      <td>#ftx</td>\n",
       "      <td>thedoc7er</td>\n",
       "      <td>1513.0</td>\n",
       "      <td>296.0</td>\n",
       "      <td>...</td>\n",
       "      <td>0.010382</td>\n",
       "      <td>-0.08424</td>\n",
       "      <td>-0.039559</td>\n",
       "      <td>0.184624</td>\n",
       "      <td>-0.086596</td>\n",
       "      <td>0.021903</td>\n",
       "      <td>-0.159313</td>\n",
       "      <td>-0.267359</td>\n",
       "      <td>-0.064923</td>\n",
       "      <td>-0.057562</td>\n",
       "    </tr>\n",
       "    <tr>\n",
       "      <th>4</th>\n",
       "      <td>1591219183660199936.0</td>\n",
       "      <td>@BitcoinMagazine you you simpletons cant under...</td>\n",
       "      <td>2022-11-11 23:59:51+00:00</td>\n",
       "      <td>NaN</td>\n",
       "      <td>0.0</td>\n",
       "      <td>1.0</td>\n",
       "      <td>#ftx</td>\n",
       "      <td>jesseypaul4</td>\n",
       "      <td>123.0</td>\n",
       "      <td>44.0</td>\n",
       "      <td>...</td>\n",
       "      <td>0.010382</td>\n",
       "      <td>-0.08424</td>\n",
       "      <td>-0.039559</td>\n",
       "      <td>0.184624</td>\n",
       "      <td>-0.086596</td>\n",
       "      <td>0.021903</td>\n",
       "      <td>-0.159313</td>\n",
       "      <td>-0.267359</td>\n",
       "      <td>-0.064923</td>\n",
       "      <td>-0.057562</td>\n",
       "    </tr>\n",
       "    <tr>\n",
       "      <th>...</th>\n",
       "      <td>...</td>\n",
       "      <td>...</td>\n",
       "      <td>...</td>\n",
       "      <td>...</td>\n",
       "      <td>...</td>\n",
       "      <td>...</td>\n",
       "      <td>...</td>\n",
       "      <td>...</td>\n",
       "      <td>...</td>\n",
       "      <td>...</td>\n",
       "      <td>...</td>\n",
       "      <td>...</td>\n",
       "      <td>...</td>\n",
       "      <td>...</td>\n",
       "      <td>...</td>\n",
       "      <td>...</td>\n",
       "      <td>...</td>\n",
       "      <td>...</td>\n",
       "      <td>...</td>\n",
       "      <td>...</td>\n",
       "      <td>...</td>\n",
       "    </tr>\n",
       "    <tr>\n",
       "      <th>178156</th>\n",
       "      <td>1591564543502827520.0</td>\n",
       "      <td>🔴 WAR IN 🇺🇦: FRANCE 24 reporter @cntrentF24, w...</td>\n",
       "      <td>2022-11-12 22:52:11+00:00</td>\n",
       "      <td>Hauts de France 🇫🇷 🇪🇺</td>\n",
       "      <td>20.0</td>\n",
       "      <td>0.0</td>\n",
       "      <td>#ukraine</td>\n",
       "      <td>annetteashley61</td>\n",
       "      <td>10522.0</td>\n",
       "      <td>9603.0</td>\n",
       "      <td>...</td>\n",
       "      <td>0.010382</td>\n",
       "      <td>-0.08424</td>\n",
       "      <td>-0.039559</td>\n",
       "      <td>0.184624</td>\n",
       "      <td>-0.086596</td>\n",
       "      <td>0.021903</td>\n",
       "      <td>-0.159313</td>\n",
       "      <td>-0.267359</td>\n",
       "      <td>-0.064923</td>\n",
       "      <td>-0.057562</td>\n",
       "    </tr>\n",
       "    <tr>\n",
       "      <th>178157</th>\n",
       "      <td>1591564535986794496.0</td>\n",
       "      <td>People still celebrating in Kherson and I love...</td>\n",
       "      <td>2022-11-12 22:52:09+00:00</td>\n",
       "      <td>Belgrade, Serbia, Europe</td>\n",
       "      <td>1041.0</td>\n",
       "      <td>0.0</td>\n",
       "      <td>#ukraine</td>\n",
       "      <td>svrhovac</td>\n",
       "      <td>222.0</td>\n",
       "      <td>150.0</td>\n",
       "      <td>...</td>\n",
       "      <td>0.010382</td>\n",
       "      <td>-0.08424</td>\n",
       "      <td>-0.039559</td>\n",
       "      <td>0.184624</td>\n",
       "      <td>-0.086596</td>\n",
       "      <td>0.021903</td>\n",
       "      <td>-0.159313</td>\n",
       "      <td>-0.267359</td>\n",
       "      <td>-0.064923</td>\n",
       "      <td>-0.057562</td>\n",
       "    </tr>\n",
       "    <tr>\n",
       "      <th>178158</th>\n",
       "      <td>1591564513710862336.0</td>\n",
       "      <td>A remarkable story #Ukraine https://t.co/eeBLc...</td>\n",
       "      <td>2022-11-12 22:52:04+00:00</td>\n",
       "      <td>Guernsey</td>\n",
       "      <td>0.0</td>\n",
       "      <td>0.0</td>\n",
       "      <td>#ukraine</td>\n",
       "      <td>TimBarker10</td>\n",
       "      <td>2668.0</td>\n",
       "      <td>1217.0</td>\n",
       "      <td>...</td>\n",
       "      <td>0.010382</td>\n",
       "      <td>-0.08424</td>\n",
       "      <td>-0.039559</td>\n",
       "      <td>0.184624</td>\n",
       "      <td>-0.086596</td>\n",
       "      <td>0.021903</td>\n",
       "      <td>-0.159313</td>\n",
       "      <td>-0.267359</td>\n",
       "      <td>-0.064923</td>\n",
       "      <td>-0.057562</td>\n",
       "    </tr>\n",
       "    <tr>\n",
       "      <th>178159</th>\n",
       "      <td>1591564504680509440.0</td>\n",
       "      <td>#Ukraine: Relief in liberated #Kherson after 8...</td>\n",
       "      <td>2022-11-12 22:52:02+00:00</td>\n",
       "      <td>🇮🇪🇪🇺🇺🇦🎮</td>\n",
       "      <td>189.0</td>\n",
       "      <td>0.0</td>\n",
       "      <td>#ukraine</td>\n",
       "      <td>Aontaithe2021</td>\n",
       "      <td>5001.0</td>\n",
       "      <td>2376.0</td>\n",
       "      <td>...</td>\n",
       "      <td>0.010382</td>\n",
       "      <td>-0.08424</td>\n",
       "      <td>-0.039559</td>\n",
       "      <td>0.184624</td>\n",
       "      <td>-0.086596</td>\n",
       "      <td>0.021903</td>\n",
       "      <td>-0.159313</td>\n",
       "      <td>-0.267359</td>\n",
       "      <td>-0.064923</td>\n",
       "      <td>-0.057562</td>\n",
       "    </tr>\n",
       "    <tr>\n",
       "      <th>178160</th>\n",
       "      <td>1591564490986115072.0</td>\n",
       "      <td>Drone Drops Grenade Directly on Russian Soldie...</td>\n",
       "      <td>2022-11-12 22:51:59+00:00</td>\n",
       "      <td>NaN</td>\n",
       "      <td>0.0</td>\n",
       "      <td>0.0</td>\n",
       "      <td>#ukraine</td>\n",
       "      <td>vbl68</td>\n",
       "      <td>28.0</td>\n",
       "      <td>16.0</td>\n",
       "      <td>...</td>\n",
       "      <td>0.010382</td>\n",
       "      <td>-0.08424</td>\n",
       "      <td>-0.039559</td>\n",
       "      <td>0.184624</td>\n",
       "      <td>-0.086596</td>\n",
       "      <td>0.021903</td>\n",
       "      <td>-0.159313</td>\n",
       "      <td>-0.267359</td>\n",
       "      <td>-0.064923</td>\n",
       "      <td>-0.057562</td>\n",
       "    </tr>\n",
       "  </tbody>\n",
       "</table>\n",
       "<p>178161 rows × 23 columns</p>\n",
       "</div>"
      ],
      "text/plain": [
       "                           id  \\\n",
       "0       1591219215352336384.0   \n",
       "1       1591219209123823616.0   \n",
       "2       1591219200546443264.0   \n",
       "3       1591219193537769472.0   \n",
       "4       1591219183660199936.0   \n",
       "...                       ...   \n",
       "178156  1591564543502827520.0   \n",
       "178157  1591564535986794496.0   \n",
       "178158  1591564513710862336.0   \n",
       "178159  1591564504680509440.0   \n",
       "178160  1591564490986115072.0   \n",
       "\n",
       "                                                     text  \\\n",
       "0       'Like a 1930s Dictator': Vitalik Buterin Lays ...   \n",
       "1       💸 $1,000 #Giveaway 💸\\n\\nWe'll select 10 winner...   \n",
       "2        #FTX crazy Shit! #Crypto https://t.co/2GO4X3u2pt   \n",
       "3       Yo @SBF_FTX, draw me like one of your French g...   \n",
       "4       @BitcoinMagazine you you simpletons cant under...   \n",
       "...                                                   ...   \n",
       "178156  🔴 WAR IN 🇺🇦: FRANCE 24 reporter @cntrentF24, w...   \n",
       "178157  People still celebrating in Kherson and I love...   \n",
       "178158  A remarkable story #Ukraine https://t.co/eeBLc...   \n",
       "178159  #Ukraine: Relief in liberated #Kherson after 8...   \n",
       "178160  Drone Drops Grenade Directly on Russian Soldie...   \n",
       "\n",
       "                        create_at                       geo retweet_count  \\\n",
       "0       2022-11-11 23:59:59+00:00            For now, Earth           0.0   \n",
       "1       2022-11-11 23:59:57+00:00                    Panama        8866.0   \n",
       "2       2022-11-11 23:59:55+00:00               Seattle, WA           0.0   \n",
       "3       2022-11-11 23:59:53+00:00           London, England           0.0   \n",
       "4       2022-11-11 23:59:51+00:00                       NaN           0.0   \n",
       "...                           ...                       ...           ...   \n",
       "178156  2022-11-12 22:52:11+00:00     Hauts de France 🇫🇷 🇪🇺          20.0   \n",
       "178157  2022-11-12 22:52:09+00:00  Belgrade, Serbia, Europe        1041.0   \n",
       "178158  2022-11-12 22:52:04+00:00                  Guernsey           0.0   \n",
       "178159  2022-11-12 22:52:02+00:00                   🇮🇪🇪🇺🇺🇦🎮         189.0   \n",
       "178160  2022-11-12 22:51:59+00:00                       NaN           0.0   \n",
       "\n",
       "       like_count  hashtags         username  following followers  ...  \\\n",
       "0             1.0      #ftx     johnmorganFL      630.0   28492.0  ...   \n",
       "1             0.0      #ftx          KuKzNFT      594.0    1014.0  ...   \n",
       "2             0.0      #ftx    MeAndMySports      315.0     342.0  ...   \n",
       "3             0.0      #ftx        thedoc7er     1513.0     296.0  ...   \n",
       "4             1.0      #ftx      jesseypaul4      123.0      44.0  ...   \n",
       "...           ...       ...              ...        ...       ...  ...   \n",
       "178156        0.0  #ukraine  annetteashley61    10522.0    9603.0  ...   \n",
       "178157        0.0  #ukraine         svrhovac      222.0     150.0  ...   \n",
       "178158        0.0  #ukraine      TimBarker10     2668.0    1217.0  ...   \n",
       "178159        0.0  #ukraine    Aontaithe2021     5001.0    2376.0  ...   \n",
       "178160        0.0  #ukraine            vbl68       28.0      16.0  ...   \n",
       "\n",
       "               0        1         2         3         4         5         6  \\\n",
       "0       0.010382 -0.08424 -0.039559  0.184624 -0.086596  0.021903 -0.159313   \n",
       "1       0.010382 -0.08424 -0.039559  0.184624 -0.086596  0.021903 -0.159313   \n",
       "2       0.010382 -0.08424 -0.039559  0.184624 -0.086596  0.021903 -0.159313   \n",
       "3       0.010382 -0.08424 -0.039559  0.184624 -0.086596  0.021903 -0.159313   \n",
       "4       0.010382 -0.08424 -0.039559  0.184624 -0.086596  0.021903 -0.159313   \n",
       "...          ...      ...       ...       ...       ...       ...       ...   \n",
       "178156  0.010382 -0.08424 -0.039559  0.184624 -0.086596  0.021903 -0.159313   \n",
       "178157  0.010382 -0.08424 -0.039559  0.184624 -0.086596  0.021903 -0.159313   \n",
       "178158  0.010382 -0.08424 -0.039559  0.184624 -0.086596  0.021903 -0.159313   \n",
       "178159  0.010382 -0.08424 -0.039559  0.184624 -0.086596  0.021903 -0.159313   \n",
       "178160  0.010382 -0.08424 -0.039559  0.184624 -0.086596  0.021903 -0.159313   \n",
       "\n",
       "               7         8         9  \n",
       "0      -0.267359 -0.064923 -0.057562  \n",
       "1      -0.267359 -0.064923 -0.057562  \n",
       "2      -0.267359 -0.064923 -0.057562  \n",
       "3      -0.267359 -0.064923 -0.057562  \n",
       "4      -0.267359 -0.064923 -0.057562  \n",
       "...          ...       ...       ...  \n",
       "178156 -0.267359 -0.064923 -0.057562  \n",
       "178157 -0.267359 -0.064923 -0.057562  \n",
       "178158 -0.267359 -0.064923 -0.057562  \n",
       "178159 -0.267359 -0.064923 -0.057562  \n",
       "178160 -0.267359 -0.064923 -0.057562  \n",
       "\n",
       "[178161 rows x 23 columns]"
      ]
     },
     "execution_count": 2,
     "metadata": {},
     "output_type": "execute_result"
    }
   ],
   "source": [
    "data = pd.read_csv('data/doc2vec.csv')\n",
    "data"
   ]
  },
  {
   "cell_type": "code",
   "execution_count": 3,
   "id": "maritime-database",
   "metadata": {},
   "outputs": [
    {
     "data": {
      "text/plain": [
       "Index(['id', 'text', 'create_at', 'geo', 'retweet_count', 'like_count',\n",
       "       'hashtags', 'username', 'following', 'followers', 'user_total_tweets',\n",
       "       'user_likes_count', 'cleaned_text', '0', '1', '2', '3', '4', '5', '6',\n",
       "       '7', '8', '9'],\n",
       "      dtype='object')"
      ]
     },
     "execution_count": 3,
     "metadata": {},
     "output_type": "execute_result"
    }
   ],
   "source": [
    "data.columns"
   ]
  },
  {
   "cell_type": "code",
   "execution_count": 4,
   "id": "later-protest",
   "metadata": {},
   "outputs": [
    {
     "data": {
      "text/plain": [
       "#ukraine          23400\n",
       "#covid            23400\n",
       "#christmas        23090\n",
       "#vegan            23051\n",
       "#climatechange    22489\n",
       "#ftx              22274\n",
       "ShopParaTi            1\n",
       "22.0                  1\n",
       "Name: hashtags, dtype: int64"
      ]
     },
     "execution_count": 4,
     "metadata": {},
     "output_type": "execute_result"
    }
   ],
   "source": [
    "data['hashtags'].value_counts()"
   ]
  },
  {
   "cell_type": "markdown",
   "id": "enclosed-defeat",
   "metadata": {},
   "source": [
    "# Preprocessing"
   ]
  },
  {
   "cell_type": "markdown",
   "id": "specific-gender",
   "metadata": {},
   "source": [
    "### 1. remove tag shopParaTi and 22.0"
   ]
  },
  {
   "cell_type": "code",
   "execution_count": 5,
   "id": "varied-uncle",
   "metadata": {},
   "outputs": [
    {
     "data": {
      "text/plain": [
       "#ukraine          23400\n",
       "#covid            23400\n",
       "#christmas        23090\n",
       "#vegan            23051\n",
       "#climatechange    22489\n",
       "#ftx              22274\n",
       "Name: hashtags, dtype: int64"
      ]
     },
     "execution_count": 5,
     "metadata": {},
     "output_type": "execute_result"
    }
   ],
   "source": [
    "data = data[(data['hashtags']!='ShopParaTi') & (data['hashtags']!='22.0')]\n",
    "data['hashtags'].value_counts()"
   ]
  },
  {
   "cell_type": "markdown",
   "id": "vocal-differential",
   "metadata": {},
   "source": [
    "### 2. one-hot encoding hashtags"
   ]
  },
  {
   "cell_type": "code",
   "execution_count": 6,
   "id": "sophisticated-geography",
   "metadata": {},
   "outputs": [
    {
     "data": {
      "text/plain": [
       "Index(['id', 'text', 'create_at', 'geo', 'retweet_count', 'like_count',\n",
       "       'username', 'following', 'followers', 'user_total_tweets',\n",
       "       'user_likes_count', 'cleaned_text', '0', '1', '2', '3', '4', '5', '6',\n",
       "       '7', '8', '9', 'hashtags_#christmas', 'hashtags_#climatechange',\n",
       "       'hashtags_#covid', 'hashtags_#ftx', 'hashtags_#ukraine',\n",
       "       'hashtags_#vegan'],\n",
       "      dtype='object')"
      ]
     },
     "execution_count": 6,
     "metadata": {},
     "output_type": "execute_result"
    }
   ],
   "source": [
    "data = pd.get_dummies(data=data, columns=['hashtags'])\n",
    "data.columns"
   ]
  },
  {
   "cell_type": "markdown",
   "id": "dried-hampton",
   "metadata": {},
   "source": [
    "### 3. get useful columns"
   ]
  },
  {
   "cell_type": "code",
   "execution_count": 7,
   "id": "classical-porcelain",
   "metadata": {},
   "outputs": [],
   "source": [
    "useful_columns = [\n",
    "    'following',\n",
    "    'followers', \n",
    "    'user_total_tweets',\n",
    "    'user_likes_count', \n",
    "    '0', '1', '2', '3', '4', '5', '6', '7', '8', '9', \n",
    "    'hashtags_#christmas', \n",
    "    'hashtags_#climatechange',\n",
    "    'hashtags_#covid', \n",
    "    'hashtags_#ftx', \n",
    "    'hashtags_#ukraine',\n",
    "    'hashtags_#vegan',\n",
    "    'retweet_count', \n",
    "    'like_count'\n",
    "]\n",
    "\n",
    "all_features = [\n",
    "    'following',\n",
    "    'followers', \n",
    "    'user_total_tweets',\n",
    "    'user_likes_count', \n",
    "    '0', '1', '2', '3', '4', '5', '6', '7', '8', '9', \n",
    "    'hashtags_#christmas', \n",
    "    'hashtags_#climatechange',\n",
    "    'hashtags_#covid', \n",
    "    'hashtags_#ftx', \n",
    "    'hashtags_#ukraine',\n",
    "    'hashtags_#vegan'\n",
    "]\n",
    "data = data[useful_columns]"
   ]
  },
  {
   "cell_type": "markdown",
   "id": "authorized-seating",
   "metadata": {},
   "source": [
    "### 4. remove NaN and transform data type"
   ]
  },
  {
   "cell_type": "code",
   "execution_count": 8,
   "id": "challenging-skating",
   "metadata": {},
   "outputs": [
    {
     "name": "stdout",
     "output_type": "stream",
     "text": [
      "<class 'pandas.core.frame.DataFrame'>\n",
      "Int64Index: 178159 entries, 0 to 178160\n",
      "Data columns (total 22 columns):\n",
      " #   Column                   Non-Null Count   Dtype  \n",
      "---  ------                   --------------   -----  \n",
      " 0   following                137704 non-null  float64\n",
      " 1   followers                137704 non-null  object \n",
      " 2   user_total_tweets        137704 non-null  float64\n",
      " 3   user_likes_count         137704 non-null  object \n",
      " 4   0                        137704 non-null  float64\n",
      " 5   1                        137704 non-null  float64\n",
      " 6   2                        137704 non-null  float64\n",
      " 7   3                        137704 non-null  float64\n",
      " 8   4                        137704 non-null  float64\n",
      " 9   5                        137704 non-null  float64\n",
      " 10  6                        137704 non-null  float64\n",
      " 11  7                        137704 non-null  float64\n",
      " 12  8                        137704 non-null  float64\n",
      " 13  9                        137704 non-null  float64\n",
      " 14  hashtags_#christmas      178159 non-null  uint8  \n",
      " 15  hashtags_#climatechange  178159 non-null  uint8  \n",
      " 16  hashtags_#covid          178159 non-null  uint8  \n",
      " 17  hashtags_#ftx            178159 non-null  uint8  \n",
      " 18  hashtags_#ukraine        178159 non-null  uint8  \n",
      " 19  hashtags_#vegan          178159 non-null  uint8  \n",
      " 20  retweet_count            137704 non-null  object \n",
      " 21  like_count               137704 non-null  object \n",
      "dtypes: float64(12), object(4), uint8(6)\n",
      "memory usage: 24.1+ MB\n"
     ]
    }
   ],
   "source": [
    "data.info()"
   ]
  },
  {
   "cell_type": "code",
   "execution_count": 9,
   "id": "disturbed-compact",
   "metadata": {},
   "outputs": [],
   "source": [
    "data.dropna(inplace=True)"
   ]
  },
  {
   "cell_type": "code",
   "execution_count": 10,
   "id": "brave-kelly",
   "metadata": {},
   "outputs": [],
   "source": [
    "data[['retweet_count','like_count','following','followers','user_total_tweets','user_likes_count']] = data[['retweet_count','like_count','following','followers','user_total_tweets','user_likes_count']].astype('float')"
   ]
  },
  {
   "cell_type": "code",
   "execution_count": 11,
   "id": "public-conversion",
   "metadata": {},
   "outputs": [
    {
     "name": "stdout",
     "output_type": "stream",
     "text": [
      "<class 'pandas.core.frame.DataFrame'>\n",
      "Int64Index: 137704 entries, 0 to 178160\n",
      "Data columns (total 22 columns):\n",
      " #   Column                   Non-Null Count   Dtype  \n",
      "---  ------                   --------------   -----  \n",
      " 0   following                137704 non-null  float64\n",
      " 1   followers                137704 non-null  float64\n",
      " 2   user_total_tweets        137704 non-null  float64\n",
      " 3   user_likes_count         137704 non-null  float64\n",
      " 4   0                        137704 non-null  float64\n",
      " 5   1                        137704 non-null  float64\n",
      " 6   2                        137704 non-null  float64\n",
      " 7   3                        137704 non-null  float64\n",
      " 8   4                        137704 non-null  float64\n",
      " 9   5                        137704 non-null  float64\n",
      " 10  6                        137704 non-null  float64\n",
      " 11  7                        137704 non-null  float64\n",
      " 12  8                        137704 non-null  float64\n",
      " 13  9                        137704 non-null  float64\n",
      " 14  hashtags_#christmas      137704 non-null  uint8  \n",
      " 15  hashtags_#climatechange  137704 non-null  uint8  \n",
      " 16  hashtags_#covid          137704 non-null  uint8  \n",
      " 17  hashtags_#ftx            137704 non-null  uint8  \n",
      " 18  hashtags_#ukraine        137704 non-null  uint8  \n",
      " 19  hashtags_#vegan          137704 non-null  uint8  \n",
      " 20  retweet_count            137704 non-null  float64\n",
      " 21  like_count               137704 non-null  float64\n",
      "dtypes: float64(16), uint8(6)\n",
      "memory usage: 18.6 MB\n"
     ]
    }
   ],
   "source": [
    "data.info()"
   ]
  },
  {
   "cell_type": "markdown",
   "id": "sporting-album",
   "metadata": {},
   "source": [
    "### 5. deal with probelms of 0 count and skewed data"
   ]
  },
  {
   "cell_type": "code",
   "execution_count": 12,
   "id": "chronic-january",
   "metadata": {},
   "outputs": [],
   "source": [
    "# remove zero likes\n",
    "data = data[data['like_count']!=0]\n",
    "data = data[data['retweet_count']!=0]\n",
    "\n",
    "# not remove zero likes\n",
    "\n"
   ]
  },
  {
   "cell_type": "code",
   "execution_count": 13,
   "id": "referenced-accent",
   "metadata": {},
   "outputs": [
    {
     "data": {
      "image/png": "[encoded data removed]",
      "text/plain": [
       "<Figure size 432x288 with 1 Axes>"
      ]
     },
     "metadata": {
      "needs_background": "light"
     },
     "output_type": "display_data"
    }
   ],
   "source": [
    "plt.hist(data['like_count'])\n",
    "plt.show()"
   ]
  },
  {
   "cell_type": "code",
   "execution_count": 14,
   "id": "numerical-government",
   "metadata": {},
   "outputs": [
    {
     "data": {
      "image/png": "[encoded data removed]",
      "text/plain": [
       "<Figure size 432x288 with 1 Axes>"
      ]
     },
     "metadata": {
      "needs_background": "light"
     },
     "output_type": "display_data"
    }
   ],
   "source": [
    "plt.hist(data['retweet_count'])\n",
    "plt.show()"
   ]
  },
  {
   "cell_type": "code",
   "execution_count": 15,
   "id": "lucky-shepherd",
   "metadata": {},
   "outputs": [
    {
     "data": {
      "text/plain": [
       "24.120874395805302"
      ]
     },
     "execution_count": 15,
     "metadata": {},
     "output_type": "execute_result"
    }
   ],
   "source": [
    "## Find the skew of the check-outs\n",
    "\n",
    "data['like_count'].skew()"
   ]
  },
  {
   "cell_type": "code",
   "execution_count": 16,
   "id": "similar-music",
   "metadata": {},
   "outputs": [
    {
     "name": "stdout",
     "output_type": "stream",
     "text": [
      "Log Transformation: 1.107285324290662\n",
      "Square Root Transformation: 6.541384843549768\n",
      "Cube Root Transformation 3.758569060031114\n"
     ]
    }
   ],
   "source": [
    "## Check skew of multiple transformations\n",
    "\n",
    "log_trans = np.log(data['like_count']).skew()\n",
    "sqrt_trans = (data['like_count'] ** .5).skew()\n",
    "cube_trans = (data['like_count']** (1/3)).skew()\n",
    "\n",
    "print('Log Transformation:', log_trans)\n",
    "print('Square Root Transformation:', sqrt_trans)\n",
    "print('Cube Root Transformation', cube_trans)"
   ]
  },
  {
   "cell_type": "code",
   "execution_count": 17,
   "id": "aerial-magazine",
   "metadata": {},
   "outputs": [],
   "source": [
    "## Transform the check-out values\n",
    "\n",
    "data['like_count(log)']=  np.log(data['like_count'])\n",
    "data['retweet_count(log)']=  np.log(data['retweet_count'])"
   ]
  },
  {
   "cell_type": "code",
   "execution_count": 18,
   "id": "everyday-powell",
   "metadata": {},
   "outputs": [
    {
     "data": {
      "image/png": "[encoded data removed]",
      "text/plain": [
       "<Figure size 432x288 with 1 Axes>"
      ]
     },
     "metadata": {
      "needs_background": "light"
     },
     "output_type": "display_data"
    }
   ],
   "source": [
    "plt.hist(data['like_count(log)'])\n",
    "plt.show()"
   ]
  },
  {
   "cell_type": "code",
   "execution_count": 19,
   "id": "innocent-anderson",
   "metadata": {},
   "outputs": [
    {
     "data": {
      "image/png": "[encoded data removed]",
      "text/plain": [
       "<Figure size 432x288 with 1 Axes>"
      ]
     },
     "metadata": {
      "needs_background": "light"
     },
     "output_type": "display_data"
    }
   ],
   "source": [
    "plt.hist(data['retweet_count(log)'])\n",
    "plt.show()"
   ]
  },
  {
   "cell_type": "markdown",
   "id": "julian-control",
   "metadata": {},
   "source": [
    "# Models"
   ]
  },
  {
   "cell_type": "code",
   "execution_count": 20,
   "id": "institutional-farmer",
   "metadata": {},
   "outputs": [],
   "source": [
    "def knn(X_train, X_dev, y_train, y_dev):\n",
    "    knn = KNeighborsRegressor(n_neighbors=5)\n",
    "    knn.fit(X_train, y_train)\n",
    "    prediction = knn.predict(X_dev)\n",
    "    knn_mse = mean_squared_error(y_dev, prediction)\n",
    "    knn_r2 = r2_score(y_dev, prediction)\n",
    "    return knn_mse, knn_r2\n",
    "\n",
    "\n",
    "def svr(X_train, X_dev, y_train, y_dev):\n",
    "    svr = SVR()\n",
    "    svr.fit(X_train, y_train)\n",
    "    prediction = svr.predict(X_dev)\n",
    "    svc_mse = mean_squared_error(y_dev, prediction)\n",
    "    svr_r2 = r2_score(y_dev, prediction)\n",
    "    return svc_mse, svr_r2\n",
    "\n",
    "# XGBRegressor\n",
    "def xgbr(X_train, X_dev, y_train, y_dev):\n",
    "    xg_reg = xgb.XGBRegressor(objective ='reg:squarederror', random_state=0, n_estimators = 50)\n",
    "    xg_reg.fit(X_train,y_train)\n",
    "    xg_preds = xg_reg.predict(X_dev)\n",
    "    xg_mse = mean_squared_error(y_dev, xg_preds)\n",
    "    xg_r2 = r2_score(y_dev, xg_preds)\n",
    "    \n",
    "#     # Mean Squared Error\n",
    "#     xg_mse = mean_squared_error(np.e ** y_dev, np.e ** xg_preds)\n",
    "\n",
    "#     # r2 score\n",
    "#     xg_r2 = r2_score(np.e ** y_dev, np.e ** xg_preds)\n",
    "\n",
    "    return xg_mse, xg_r2\n",
    "\n",
    "# GradientBoostingRegressor\n",
    "def gbr(X_train, X_dev, y_train, y_dev):\n",
    "    gra_reg = GradientBoostingRegressor(random_state=0, n_estimators = 50)\n",
    "    gra_reg.fit(X_train,y_train)\n",
    "    gra_preds = gra_reg.predict(X_dev)\n",
    "    gra_mse = mean_squared_error(y_dev, gra_preds)\n",
    "    gra_r2 = r2_score(y_dev, gra_preds)\n",
    "    return gra_mse, gra_r2\n",
    "\n",
    "# AdaBoostRegressor\n",
    "def ada(X_train, X_dev, y_train, y_dev):\n",
    "    ada_reg = AdaBoostRegressor(random_state=0, n_estimators = 50)\n",
    "    ada_reg.fit(X_train,y_train)\n",
    "    ada_preds = ada_reg.predict(X_dev)\n",
    "    ada_mse = mean_squared_error(y_dev, ada_preds)\n",
    "    ada_r2 = r2_score(y_dev, ada_preds)\n",
    "    return ada_mse, ada_r2\n",
    "\n",
    "def lasso(X_train, X_dev, y_train, y_dev):\n",
    "   \n",
    "    lasso = Lasso()\n",
    "    lasso.fit(X_train, y_train)\n",
    "    prediction = lasso.predict(X_dev)\n",
    "    lasso_mse = mean_squared_error(y_dev.values, prediction)\n",
    "    lasso_r2 = r2_score(y_dev, prediction)\n",
    "    return lasso_mse, lasso_r2\n",
    "\n",
    "def ridge(X_train, X_dev, y_train, y_dev):\n",
    "   \n",
    "    ridge = Ridge()\n",
    "    ridge.fit(X_train, y_train)\n",
    "    prediction = ridge.predict(X_dev)\n",
    "    ridge_mse = mean_squared_error(y_dev, prediction)\n",
    "    ridge_r2 = r2_score(y_dev, prediction)\n",
    "    return ridge_mse, ridge_r2\n",
    "\n",
    "\n",
    "# Linear regression\n",
    "def linreg(X_train, X_dev, y_train, y_dev):\n",
    "    linreg = LinearRegression()\n",
    "    linreg.fit(X_train, y_train)\n",
    "    prediction = linreg.predict(X_dev)\n",
    "    linreg_mse = mean_squared_error(y_dev, prediction)\n",
    "    linreg_r2 = r2_score(y_dev, prediction)\n",
    "    \n",
    "    # Mean Squared Error\n",
    "    lm_mse = mean_squared_error(np.e ** y_dev, np.e ** prediction)\n",
    "\n",
    "    # r2 score\n",
    "    lm_r2 = r2_score(np.e ** y_dev, np.e ** prediction)\n",
    "    \n",
    "#     return linreg_mse, linreg_r2\n",
    "    return lm_mse, lm_r2\n",
    "\n",
    "\n",
    "# Random Forests\n",
    "def rf(X_train, X_dev, y_train, y_dev):\n",
    "    rf = RandomForestRegressor(random_state=0)\n",
    "    rf.fit(X_train,y_train)\n",
    "    prediction = rf.predict(X_dev)\n",
    "    rf_mse = mean_squared_error(y_dev, prediction)\n",
    "    rf_r2 = r2_score(y_dev, prediction)\n",
    "    \n",
    "    \n",
    "    # Mean Squared Error\n",
    "#     rf_mse = mean_squared_error(np.e ** y_dev, np.e ** prediction)\n",
    "\n",
    "#     # r2 score\n",
    "#     rf_r2 = r2_score(np.e ** y_dev, np.e ** prediction)\n",
    "    \n",
    "    return rf_mse, rf_r2\n",
    "    "
   ]
  },
  {
   "cell_type": "code",
   "execution_count": 21,
   "id": "complimentary-circle",
   "metadata": {},
   "outputs": [
    {
     "data": {
      "text/html": [
       "<div>\n",
       "<style scoped>\n",
       "    .dataframe tbody tr th:only-of-type {\n",
       "        vertical-align: middle;\n",
       "    }\n",
       "\n",
       "    .dataframe tbody tr th {\n",
       "        vertical-align: top;\n",
       "    }\n",
       "\n",
       "    .dataframe thead th {\n",
       "        text-align: right;\n",
       "    }\n",
       "</style>\n",
       "<table border=\"1\" class=\"dataframe\">\n",
       "  <thead>\n",
       "    <tr style=\"text-align: right;\">\n",
       "      <th></th>\n",
       "      <th>following</th>\n",
       "      <th>followers</th>\n",
       "      <th>user_total_tweets</th>\n",
       "      <th>user_likes_count</th>\n",
       "      <th>0</th>\n",
       "      <th>1</th>\n",
       "      <th>2</th>\n",
       "      <th>3</th>\n",
       "      <th>4</th>\n",
       "      <th>5</th>\n",
       "      <th>6</th>\n",
       "      <th>7</th>\n",
       "      <th>8</th>\n",
       "      <th>9</th>\n",
       "      <th>hashtags_#christmas</th>\n",
       "      <th>hashtags_#climatechange</th>\n",
       "      <th>hashtags_#covid</th>\n",
       "      <th>hashtags_#ftx</th>\n",
       "      <th>hashtags_#ukraine</th>\n",
       "      <th>hashtags_#vegan</th>\n",
       "    </tr>\n",
       "  </thead>\n",
       "  <tbody>\n",
       "    <tr>\n",
       "      <th>84</th>\n",
       "      <td>418.0</td>\n",
       "      <td>3560.0</td>\n",
       "      <td>12428.0</td>\n",
       "      <td>47270.0</td>\n",
       "      <td>0.010382</td>\n",
       "      <td>-0.08424</td>\n",
       "      <td>-0.039559</td>\n",
       "      <td>0.184624</td>\n",
       "      <td>-0.086596</td>\n",
       "      <td>0.021903</td>\n",
       "      <td>-0.159313</td>\n",
       "      <td>-0.267359</td>\n",
       "      <td>-0.064923</td>\n",
       "      <td>-0.057562</td>\n",
       "      <td>0</td>\n",
       "      <td>0</td>\n",
       "      <td>0</td>\n",
       "      <td>1</td>\n",
       "      <td>0</td>\n",
       "      <td>0</td>\n",
       "    </tr>\n",
       "  </tbody>\n",
       "</table>\n",
       "</div>"
      ],
      "text/plain": [
       "    following  followers  user_total_tweets  user_likes_count         0  \\\n",
       "84      418.0     3560.0            12428.0           47270.0  0.010382   \n",
       "\n",
       "          1         2         3         4         5         6         7  \\\n",
       "84 -0.08424 -0.039559  0.184624 -0.086596  0.021903 -0.159313 -0.267359   \n",
       "\n",
       "           8         9  hashtags_#christmas  hashtags_#climatechange  \\\n",
       "84 -0.064923 -0.057562                    0                        0   \n",
       "\n",
       "    hashtags_#covid  hashtags_#ftx  hashtags_#ukraine  hashtags_#vegan  \n",
       "84                0              1                  0                0  "
      ]
     },
     "execution_count": 21,
     "metadata": {},
     "output_type": "execute_result"
    }
   ],
   "source": [
    "features = data[all_features]\n",
    "features.head(1)"
   ]
  },
  {
   "cell_type": "code",
   "execution_count": 22,
   "id": "inappropriate-sweet",
   "metadata": {},
   "outputs": [],
   "source": [
    "labels = data['like_count(log)']"
   ]
  },
  {
   "cell_type": "code",
   "execution_count": 23,
   "id": "mechanical-interest",
   "metadata": {},
   "outputs": [],
   "source": [
    "X_train, X_test, y_train, y_test = train_test_split(features, labels, test_size=0.2, random_state=42)"
   ]
  },
  {
   "cell_type": "code",
   "execution_count": 24,
   "id": "recorded-heritage",
   "metadata": {},
   "outputs": [
    {
     "name": "stdout",
     "output_type": "stream",
     "text": [
      "Mean Squared Error = 9302.491881491784\n",
      "r2 = -0.0232419434239588\n"
     ]
    }
   ],
   "source": [
    "lm_mse, lm_r2 = linreg(X_train, X_test, y_train, y_test)\n",
    "print('Mean Squared Error =', lm_mse)\n",
    "print('r2 =', lm_r2)\n"
   ]
  },
  {
   "cell_type": "code",
   "execution_count": 26,
   "id": "bigger-tokyo",
   "metadata": {},
   "outputs": [
    {
     "name": "stdout",
     "output_type": "stream",
     "text": [
      "Mean Squared Error = 1.0860629504539665\n",
      "r2 = 0.4476994091505172\n"
     ]
    }
   ],
   "source": [
    "rf_mse, rf_r2 = rf(X_train, X_test, y_train, y_test)\n",
    "\n",
    "print('Mean Squared Error =', rf_mse)\n",
    "print('r2 =', rf_r2)"
   ]
  },
  {
   "cell_type": "code",
   "execution_count": 27,
   "id": "pacific-opening",
   "metadata": {},
   "outputs": [
    {
     "name": "stdout",
     "output_type": "stream",
     "text": [
      "Mean Squared Error = 1.1154101567190522\n",
      "r2 = 0.43277533927665446\n"
     ]
    }
   ],
   "source": [
    "xg_mse, xg_r2 = xgbr(X_train, X_test, y_train, y_test)\n",
    "\n",
    "print('Mean Squared Error =', xg_mse)\n",
    "print('r2 =', xg_r2)"
   ]
  },
  {
   "cell_type": "markdown",
   "id": "dominant-borough",
   "metadata": {},
   "source": [
    "### Error Analysis of the Random Forest"
   ]
  },
  {
   "cell_type": "code",
   "execution_count": 28,
   "id": "interim-toyota",
   "metadata": {},
   "outputs": [],
   "source": [
    "import plotly as py\n",
    "import plotly.offline as pyo\n",
    "from plotly.offline import download_plotlyjs, init_notebook_mode, plot, iplot\n",
    "from plotly.graph_objs import *\n",
    "from plotly.tools import FigureFactory as FF"
   ]
  },
  {
   "cell_type": "code",
   "execution_count": 30,
   "id": "included-blowing",
   "metadata": {},
   "outputs": [],
   "source": [
    "rf = RandomForestRegressor(random_state=0)\n",
    "rf.fit(X_train,y_train)\n",
    "prediction = rf.predict(X_test)\n",
    "rf_mse = mean_squared_error(y_test, prediction)\n",
    "rf_r2 = r2_score(y_test, prediction)\n",
    "\n",
    "test = pd.DataFrame()\n",
    "test['like_count'] = np.e ** y_test\n",
    "test['Predictions'] = np.e ** prediction\n",
    "test['Difference'] = test['Predictions'] - test['like_count']\n",
    "\n",
    "test['text'] = test.apply(lambda x: 'Predicted Difference: ' + str(round(x['Difference'], 2)), axis=1)\n",
    "\n",
    "    \n",
    "## Plotly scatter plot comparing the actual vs predicted values\n",
    "error_trace = {'type' : 'scatter',\n",
    "              'x' : test['like_count'],\n",
    "              'y' : test['Predictions'],\n",
    "              'text' : test['text'],\n",
    "              'hoverinfo' : 'text',\n",
    "              'mode' : 'markers',\n",
    "              'marker' : {'size' : abs(test['Difference']/2)}}\n",
    "\n",
    "layout = {'title' : 'Random Forest Error Analysis',\n",
    "         'xaxis' : {'title' : 'Actual Like Count'},\n",
    "         'yaxis' : {'title' : 'Predicted Like Count'},\n",
    "         'hovermode' : 'closest'}\n",
    "\n",
    "error_analysis = {'data': [error_trace], 'layout' : layout}\n",
    "# pyo.iplot(error_analysis)\n"
   ]
  },
  {
   "cell_type": "code",
   "execution_count": 31,
   "id": "lucky-librarian",
   "metadata": {},
   "outputs": [
    {
     "data": {
      "text/plain": [
       "array([0.14678374, 0.31231333, 0.23777621, 0.20873681, 0.        ,\n",
       "       0.        , 0.        , 0.        , 0.        , 0.        ,\n",
       "       0.        , 0.        , 0.        , 0.        , 0.01008613,\n",
       "       0.02701628, 0.01100356, 0.01216271, 0.01507734, 0.01904388])"
      ]
     },
     "execution_count": 31,
     "metadata": {},
     "output_type": "execute_result"
    }
   ],
   "source": [
    "rf.feature_importances_"
   ]
  },
  {
   "cell_type": "code",
   "execution_count": 32,
   "id": "superb-major",
   "metadata": {},
   "outputs": [],
   "source": [
    "\n",
    "all_features = [\n",
    "    'following',\n",
    "    'followers', \n",
    "    'user_total_tweets',\n",
    "    'user_likes_count', \n",
    "    '0', '1', '2', '3', '4', '5', '6', '7', '8', '9', \n",
    "    'hashtags_#christmas', \n",
    "    'hashtags_#climatechange',\n",
    "    'hashtags_#covid', \n",
    "    'hashtags_#ftx', \n",
    "    'hashtags_#ukraine',\n",
    "    'hashtags_#vegan'\n",
    "]"
   ]
  },
  {
   "cell_type": "code",
   "execution_count": null,
   "id": "preliminary-glance",
   "metadata": {},
   "outputs": [],
   "source": []
  }
 ],
 "metadata": {
  "kernelspec": {
   "display_name": "Python 3",
   "language": "python",
   "name": "python3"
  },
  "language_info": {
   "codemirror_mode": {
    "name": "ipython",
    "version": 3
   },
   "file_extension": ".py",
   "mimetype": "text/x-python",
   "name": "python",
   "nbconvert_exporter": "python",
   "pygments_lexer": "ipython3",
   "version": "3.8.5"
  }
 },
 "nbformat": 4,
 "nbformat_minor": 5
}
